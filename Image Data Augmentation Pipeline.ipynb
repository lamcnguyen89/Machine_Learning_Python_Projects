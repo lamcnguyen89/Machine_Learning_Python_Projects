{
 "cells": [
  {
   "cell_type": "markdown",
   "metadata": {},
   "source": [
    "# Setup"
   ]
  },
  {
   "cell_type": "code",
   "execution_count": 4,
   "metadata": {},
   "outputs": [],
   "source": [
    "# Load Necessary Libraries\n",
    "\n",
    "import tensorflow as tf\n",
    "import matplotlib.pyplot as plt\n",
    "import numpy as np\n",
    "import os\n",
    "import matplotlib.image as mpimg\n",
    "from tensorflow.python.keras.preprocessing.image import ImageDataGenerator, load_img, img_to_array"
   ]
  },
  {
   "cell_type": "markdown",
   "metadata": {},
   "source": [
    "# Load the Dataset"
   ]
  },
  {
   "cell_type": "code",
   "execution_count": 5,
   "metadata": {},
   "outputs": [
    {
     "name": "stdout",
     "output_type": "stream",
     "text": [
      "Found 29124 images belonging to 82 classes.\n",
      "Found 4038 images belonging to 81 classes.\n",
      "Found 3550 images belonging to 81 classes.\n"
     ]
    }
   ],
   "source": [
    "# Define Image Augmentation parameters:\n",
    "featurewise_center=True\n",
    "featurewise_std_normalization=True\n",
    "rescale=1.0/255.0\n",
    "rotation_range=45\n",
    "height_shift_range=.15\n",
    "width_shift_range=.15\n",
    "horizontal_flip=True\n",
    "zoom_range=0.5\n",
    "\n",
    "# Define flow_from_directory parameters:\n",
    "train_dir = '/home/lam/ml/datasets/Psychedelics/Train'\n",
    "val_dir = '/home/lam/ml/datasets/Psychedelics/Validation/'\n",
    "test_dir = '/home/lam/ml/datasets/Psychedelics/Test/'\n",
    "class_mode = 'categorical'\n",
    "batch_size = 32\n",
    "shuffle = True\n",
    "IMG_HEIGHT = 256\n",
    "IMG_WIDTH = 256\n",
    "save_to_dir= '/home/lam/ml/datasets/Psychedelics/Augmented'\n",
    "save_prefix='aug'\n",
    "save_format='jpg'\n",
    "\n",
    "\n",
    "# Define Training Data Image Augmentation Pipeline:\n",
    "datagen_train = ImageDataGenerator(featurewise_center=featurewise_center,\n",
    "                                   featurewise_std_normalization=featurewise_std_normalization,\n",
    "                                   rescale=rescale,\n",
    "                                   rotation_range=rotation_range,\n",
    "                                   width_shift_range=width_shift_range,\n",
    "                                   height_shift_range=height_shift_range,\n",
    "                                   horizontal_flip=horizontal_flip,\n",
    "                                   zoom_range=zoom_range)\n",
    "\n",
    "# Define Validation and Test Image Pipeline:\n",
    "datagen = ImageDataGenerator(featurewise_center=featurewise_center,\n",
    "                             featurewise_std_normalization=featurewise_std_normalization,\n",
    "                             rescale=rescale)\n",
    "\n",
    "\n",
    "#load and iterate training dataset:\n",
    "train_it = datagen_train.flow_from_directory(directory=train_dir, \n",
    "                                             class_mode=class_mode, \n",
    "                                             batch_size=batch_size,\n",
    "                                             shuffle=shuffle,\n",
    "                                             target_size=(IMG_HEIGHT, IMG_WIDTH),\n",
    "                                             save_to_dir=save_to_dir,\n",
    "                                             save_prefix='aug',\n",
    "                                             save_format='png'\n",
    "                                             )\n",
    "# load and iterate validation dataset:\n",
    "val_it = datagen.flow_from_directory(directory=val_dir, \n",
    "                                     class_mode=class_mode, \n",
    "                                     batch_size=batch_size,\n",
    "                                     shuffle=shuffle,\n",
    "                                     target_size=(IMG_HEIGHT, IMG_WIDTH)\n",
    "                                     )\n",
    "# load and iterate test dataset:\n",
    "test_it = datagen.flow_from_directory(directory=test_dir, \n",
    "                                      class_mode=class_mode, \n",
    "                                      batch_size=batch_size,\n",
    "                                      shuffle=shuffle,\n",
    "                                      target_size=(IMG_HEIGHT, IMG_WIDTH)\n",
    "                                      )\n",
    "\n",
    "\n",
    "\n",
    "\n",
    "\n",
    "\n",
    "    \n",
    "\n"
   ]
  },
  {
   "cell_type": "code",
   "execution_count": 8,
   "metadata": {},
   "outputs": [
    {
     "name": "stdout",
     "output_type": "stream",
     "text": [
      "Found 29124 images belonging to 82 classes.\n"
     ]
    },
    {
     "ename": "TypeError",
     "evalue": "float() argument must be a string or a number, not 'DirectoryIterator'",
     "output_type": "error",
     "traceback": [
      "\u001b[0;31m---------------------------------------------------------------------------\u001b[0m",
      "\u001b[0;31mTypeError\u001b[0m                                 Traceback (most recent call last)",
      "\u001b[0;32m<ipython-input-8-d3adb12d4c21>\u001b[0m in \u001b[0;36m<module>\u001b[0;34m\u001b[0m\n\u001b[1;32m     37\u001b[0m \u001b[0;34m\u001b[0m\u001b[0m\n\u001b[1;32m     38\u001b[0m \u001b[0;31m# Convert images to numpy arrays:\u001b[0m\u001b[0;34m\u001b[0m\u001b[0;34m\u001b[0m\u001b[0;34m\u001b[0m\u001b[0m\n\u001b[0;32m---> 39\u001b[0;31m \u001b[0mtrain_it\u001b[0m \u001b[0;34m=\u001b[0m \u001b[0mimg_to_array\u001b[0m\u001b[0;34m(\u001b[0m\u001b[0mtrain_it\u001b[0m\u001b[0;34m)\u001b[0m\u001b[0;34m\u001b[0m\u001b[0;34m\u001b[0m\u001b[0m\n\u001b[0m\u001b[1;32m     40\u001b[0m \u001b[0;34m\u001b[0m\u001b[0m\n\u001b[1;32m     41\u001b[0m \u001b[0;34m\u001b[0m\u001b[0m\n",
      "\u001b[0;32m~/ml/env/lib/python3.6/site-packages/tensorflow/python/keras/_impl/keras/preprocessing/image.py\u001b[0m in \u001b[0;36mimg_to_array\u001b[0;34m(img, data_format)\u001b[0m\n\u001b[1;32m    331\u001b[0m   \u001b[0;31m# or (channel, height, width)\u001b[0m\u001b[0;34m\u001b[0m\u001b[0;34m\u001b[0m\u001b[0;34m\u001b[0m\u001b[0m\n\u001b[1;32m    332\u001b[0m   \u001b[0;31m# but original PIL image has format (width, height, channel)\u001b[0m\u001b[0;34m\u001b[0m\u001b[0;34m\u001b[0m\u001b[0;34m\u001b[0m\u001b[0m\n\u001b[0;32m--> 333\u001b[0;31m   \u001b[0mx\u001b[0m \u001b[0;34m=\u001b[0m \u001b[0mnp\u001b[0m\u001b[0;34m.\u001b[0m\u001b[0masarray\u001b[0m\u001b[0;34m(\u001b[0m\u001b[0mimg\u001b[0m\u001b[0;34m,\u001b[0m \u001b[0mdtype\u001b[0m\u001b[0;34m=\u001b[0m\u001b[0mK\u001b[0m\u001b[0;34m.\u001b[0m\u001b[0mfloatx\u001b[0m\u001b[0;34m(\u001b[0m\u001b[0;34m)\u001b[0m\u001b[0;34m)\u001b[0m\u001b[0;34m\u001b[0m\u001b[0;34m\u001b[0m\u001b[0m\n\u001b[0m\u001b[1;32m    334\u001b[0m   \u001b[0;32mif\u001b[0m \u001b[0mlen\u001b[0m\u001b[0;34m(\u001b[0m\u001b[0mx\u001b[0m\u001b[0;34m.\u001b[0m\u001b[0mshape\u001b[0m\u001b[0;34m)\u001b[0m \u001b[0;34m==\u001b[0m \u001b[0;36m3\u001b[0m\u001b[0;34m:\u001b[0m\u001b[0;34m\u001b[0m\u001b[0;34m\u001b[0m\u001b[0m\n\u001b[1;32m    335\u001b[0m     \u001b[0;32mif\u001b[0m \u001b[0mdata_format\u001b[0m \u001b[0;34m==\u001b[0m \u001b[0;34m'channels_first'\u001b[0m\u001b[0;34m:\u001b[0m\u001b[0;34m\u001b[0m\u001b[0;34m\u001b[0m\u001b[0m\n",
      "\u001b[0;32m~/ml/env/lib/python3.6/site-packages/numpy/core/_asarray.py\u001b[0m in \u001b[0;36masarray\u001b[0;34m(a, dtype, order)\u001b[0m\n\u001b[1;32m     83\u001b[0m \u001b[0;34m\u001b[0m\u001b[0m\n\u001b[1;32m     84\u001b[0m     \"\"\"\n\u001b[0;32m---> 85\u001b[0;31m     \u001b[0;32mreturn\u001b[0m \u001b[0marray\u001b[0m\u001b[0;34m(\u001b[0m\u001b[0ma\u001b[0m\u001b[0;34m,\u001b[0m \u001b[0mdtype\u001b[0m\u001b[0;34m,\u001b[0m \u001b[0mcopy\u001b[0m\u001b[0;34m=\u001b[0m\u001b[0;32mFalse\u001b[0m\u001b[0;34m,\u001b[0m \u001b[0morder\u001b[0m\u001b[0;34m=\u001b[0m\u001b[0morder\u001b[0m\u001b[0;34m)\u001b[0m\u001b[0;34m\u001b[0m\u001b[0;34m\u001b[0m\u001b[0m\n\u001b[0m\u001b[1;32m     86\u001b[0m \u001b[0;34m\u001b[0m\u001b[0m\n\u001b[1;32m     87\u001b[0m \u001b[0;34m\u001b[0m\u001b[0m\n",
      "\u001b[0;31mTypeError\u001b[0m: float() argument must be a string or a number, not 'DirectoryIterator'"
     ]
    }
   ],
   "source": [
    "# Define Image Augmentation parameters:\n",
    "featurewise_center=True\n",
    "featurewise_std_normalization=True\n",
    "rescale=1.0/255.0\n",
    "rotation_range=45\n",
    "height_shift_range=.15\n",
    "width_shift_range=.15\n",
    "horizontal_flip=True\n",
    "zoom_range=0.5\n",
    "\n",
    "# Define flow_from_directory parameters:\n",
    "train_dir = '/home/lam/ml/datasets/Psychedelics/Train'\n",
    "val_dir = '/home/lam/ml/datasets/Psychedelics/Validation/'\n",
    "test_dir = '/home/lam/ml/datasets/Psychedelics/Test/'\n",
    "class_mode = 'categorical'\n",
    "batch_size = 32\n",
    "shuffle = True\n",
    "IMG_HEIGHT = 256\n",
    "IMG_WIDTH = 256\n",
    "save_to_dir= '/home/lam/ml/datasets/Psychedelics/Augmented'\n",
    "save_prefix='aug'\n",
    "save_format='jpg'\n",
    "\n",
    "# Create image loading iterator\n",
    "iterator = ImageDataGenerator()\n",
    "\n",
    "#load and iterate training dataset:\n",
    "train_it = iterator.flow_from_directory(directory=train_dir, \n",
    "                                        class_mode=class_mode, \n",
    "                                        batch_size=batch_size,\n",
    "                                        shuffle=shuffle,\n",
    "                                        target_size=(IMG_HEIGHT, IMG_WIDTH),\n",
    "                                        save_to_dir=save_to_dir,\n",
    "                                        save_prefix='aug',\n",
    "                                        save_format='png'\n",
    "                                        )\n",
    "\n",
    "# Convert images to numpy arrays:\n",
    "train_it = img_to_array(train_it)\n",
    "\n",
    "\n",
    "# Define Training Data Image Augmentation Pipeline:\n",
    "datagen_train = ImageDataGenerator(featurewise_center=featurewise_center,\n",
    "                                   featurewise_std_normalization=featurewise_std_normalization,\n",
    "                                   rescale=rescale,\n",
    "                                   rotation_range=rotation_range,\n",
    "                                   width_shift_range=width_shift_range,\n",
    "                                   height_shift_range=height_shift_range,\n",
    "                                   horizontal_flip=horizontal_flip,\n",
    "                                   zoom_range=zoom_range\n",
    "                                  )\n",
    "# Run the batch image loader through the Image Augmentation Pipeline:\n",
    "train_it=datagen_train.flow(train_it, batch_size=batch_size)"
   ]
  },
  {
   "cell_type": "code",
   "execution_count": null,
   "metadata": {},
   "outputs": [],
   "source": []
  }
 ],
 "metadata": {
  "kernelspec": {
   "display_name": "Python 3",
   "language": "python",
   "name": "python3"
  },
  "language_info": {
   "codemirror_mode": {
    "name": "ipython",
    "version": 3
   },
   "file_extension": ".py",
   "mimetype": "text/x-python",
   "name": "python",
   "nbconvert_exporter": "python",
   "pygments_lexer": "ipython3",
   "version": "3.6.8"
  }
 },
 "nbformat": 4,
 "nbformat_minor": 2
}
