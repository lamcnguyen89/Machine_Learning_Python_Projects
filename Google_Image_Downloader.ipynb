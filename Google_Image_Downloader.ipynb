{
 "cells": [
  {
   "cell_type": "markdown",
   "metadata": {},
   "source": [
    "# Downloading Online Images for training"
   ]
  },
  {
   "cell_type": "code",
   "execution_count": 1,
   "metadata": {},
   "outputs": [
    {
     "name": "stdout",
     "output_type": "stream",
     "text": [
      "\n",
      "Item no.: 1 --> Item name = Psilocybe cubensis\n",
      "Evaluating...\n",
      "Starting Download...\n",
      "\n",
      "\n",
      "Unfortunately all 20 could not be downloaded because some images were not downloadable. 0 is all we got for this search filter!\n",
      "\n",
      "Errors: 0\n",
      "\n",
      "\n",
      "Item no.: 2 --> Item name = Psilocybe semilanceata\n",
      "Evaluating...\n",
      "Starting Download...\n",
      "\n",
      "\n",
      "Unfortunately all 20 could not be downloaded because some images were not downloadable. 0 is all we got for this search filter!\n",
      "\n",
      "Errors: 0\n",
      "\n",
      "\n",
      "Item no.: 3 --> Item name = Psilocybe baeocystis\n",
      "Evaluating...\n",
      "Starting Download...\n",
      "\n",
      "\n",
      "Unfortunately all 20 could not be downloaded because some images were not downloadable. 0 is all we got for this search filter!\n",
      "\n",
      "Errors: 0\n",
      "\n",
      "\n",
      "Item no.: 4 --> Item name =  Psilocybe mexicana\n",
      "Evaluating...\n",
      "Starting Download...\n",
      "\n",
      "\n",
      "Unfortunately all 20 could not be downloaded because some images were not downloadable. 0 is all we got for this search filter!\n",
      "\n",
      "Errors: 0\n",
      "\n",
      "\n",
      "Item no.: 5 --> Item name =  Psilocybe cyanescens\n",
      "Evaluating...\n",
      "Starting Download...\n",
      "\n",
      "\n",
      "Unfortunately all 20 could not be downloaded because some images were not downloadable. 0 is all we got for this search filter!\n",
      "\n",
      "Errors: 0\n",
      "\n",
      "\n",
      "Item no.: 6 --> Item name =  Psilocybe azurescens\n",
      "Evaluating...\n",
      "Starting Download...\n",
      "\n",
      "\n",
      "Unfortunately all 20 could not be downloaded because some images were not downloadable. 0 is all we got for this search filter!\n",
      "\n",
      "Errors: 0\n",
      "\n",
      "\n",
      "Item no.: 7 --> Item name =  Psilocybe baeocystis\n",
      "Evaluating...\n",
      "Starting Download...\n",
      "\n",
      "\n",
      "Unfortunately all 20 could not be downloaded because some images were not downloadable. 0 is all we got for this search filter!\n",
      "\n",
      "Errors: 0\n",
      "\n",
      "({'Psilocybe cubensis': [], 'Psilocybe semilanceata': [], 'Psilocybe baeocystis': [], ' Psilocybe mexicana': [], ' Psilocybe cyanescens': [], ' Psilocybe azurescens': [], ' Psilocybe baeocystis': []}, 0)\n"
     ]
    }
   ],
   "source": [
    "# Linux Command for downloading the Google Image Module: pip install google_images_download\n",
    "# Tutorial Website: https://www.tutorialspoint.com/how-to-download-google-images-using-python\n",
    "\n",
    "from google_images_download import google_images_download  \n",
    "\n",
    "# creating object or class instantiation\n",
    "response = google_images_download.googleimagesdownload()\n",
    "\n",
    "# Example of setting the parameters for the module to use:\n",
    "    # \"keywords\": as many keywords as you can handle separated by commas\n",
    "    # \"limit\": number of images to download per keyword\n",
    "    # \"print_urls\": whether or not to print url from where file was generated\n",
    "    # \"output_directory\": The main directory name in which the images are downloaded\n",
    "    # \"image_directory\": the name of the directory inside the main directory in which images will be saved\n",
    "    \n",
    "arguments = {\"keywords\":\"Psilocybe cubensis,Psilocybe semilanceata,Psilocybe baeocystis, Psilocybe mexicana, Psilocybe cyanescens, Psilocybe azurescens, Psilocybe baeocystis\",\"limit\":20,\"print_urls\":True}   #creating list of arguments\n",
    "paths = response.download(arguments)   #passing the arguments to the function\n",
    "print(paths)   #printing absolute paths of the downloaded images\n",
    "\n",
    "# Where to change the download path?? Look at the documentation:\n",
    "    # https://google-images-download.readthedocs.io/en/latest/arguments.html\n",
    "    \n",
    "# This is an issue I am dealing with right now: https://github.com/hardikvasa/google-images-download/issues/301\n",
    " \n"
   ]
  },
  {
   "cell_type": "code",
   "execution_count": 2,
   "metadata": {},
   "outputs": [
    {
     "ename": "ModuleNotFoundError",
     "evalue": "No module named 'bing_scraper'",
     "output_type": "error",
     "traceback": [
      "\u001b[0;31m---------------------------------------------------------------------------\u001b[0m",
      "\u001b[0;31mModuleNotFoundError\u001b[0m                       Traceback (most recent call last)",
      "\u001b[0;32m<ipython-input-2-8dda609a0a49>\u001b[0m in \u001b[0;36m<module>\u001b[0;34m\u001b[0m\n\u001b[0;32m----> 1\u001b[0;31m \u001b[0;32mimport\u001b[0m \u001b[0mbing_scraper\u001b[0m\u001b[0;34m.\u001b[0m\u001b[0mpy\u001b[0m\u001b[0;34m\u001b[0m\u001b[0;34m\u001b[0m\u001b[0m\n\u001b[0m\u001b[1;32m      2\u001b[0m \u001b[0;34m\u001b[0m\u001b[0m\n",
      "\u001b[0;31mModuleNotFoundError\u001b[0m: No module named 'bing_scraper'"
     ]
    }
   ],
   "source": [
    "\n",
    "\n"
   ]
  },
  {
   "cell_type": "markdown",
   "metadata": {},
   "source": [
    "# Convert Images into Dataset File "
   ]
  }
 ],
 "metadata": {
  "kernelspec": {
   "display_name": "Python 3",
   "language": "python",
   "name": "python3"
  },
  "language_info": {
   "codemirror_mode": {
    "name": "ipython",
    "version": 3
   },
   "file_extension": ".py",
   "mimetype": "text/x-python",
   "name": "python",
   "nbconvert_exporter": "python",
   "pygments_lexer": "ipython3",
   "version": "3.6.8"
  }
 },
 "nbformat": 4,
 "nbformat_minor": 2
}
