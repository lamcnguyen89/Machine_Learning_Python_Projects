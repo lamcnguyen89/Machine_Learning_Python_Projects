{
 "cells": [
  {
   "cell_type": "code",
   "execution_count": 1,
   "metadata": {},
   "outputs": [],
   "source": [
    "# To support both python 2 and python 3\n",
    "from __future__ import division, print_function, unicode_literals\n",
    "\n",
    "# Common imports\n",
    "import numpy as np\n",
    "import os\n",
    "import sys\n",
    "\n",
    "# to make this notebook's output stable across runs\n",
    "def reset_graph(seed=42):\n",
    "    tf.reset_default_graph()\n",
    "    tf.set_random_seed(seed)\n",
    "    np.random.seed(seed)\n",
    "\n",
    "# To plot pretty figures\n",
    "%matplotlib inline\n",
    "import matplotlib\n",
    "import matplotlib.pyplot as plt\n",
    "plt.rcParams['axes.labelsize'] = 14\n",
    "plt.rcParams['xtick.labelsize'] = 12\n",
    "plt.rcParams['ytick.labelsize'] = 12\n",
    "\n",
    "# Where to save the figures\n",
    "PROJECT_ROOT_DIR = \".\"\n",
    "CHAPTER_ID = \"autoencoders\"\n",
    "\n",
    "def save_fig(fig_id, tight_layout=True):\n",
    "    path = os.path.join(PROJECT_ROOT_DIR, \"images\", CHAPTER_ID, fig_id + \".png\")\n",
    "    print(\"Saving figure\", fig_id)\n",
    "    if tight_layout:\n",
    "        plt.tight_layout()\n",
    "    plt.savefig(path, format='png', dpi=300)"
   ]
  },
  {
   "cell_type": "code",
   "execution_count": 2,
   "metadata": {},
   "outputs": [],
   "source": [
    "# A couple utility functions to plot grayscale 28x28 image:\n",
    "\n",
    "def plot_image(image, shape=[28, 28]):\n",
    "    plt.imshow(image.reshape(shape), cmap=\"Greys\", interpolation=\"nearest\")\n",
    "    plt.axis(\"off\")"
   ]
  },
  {
   "cell_type": "code",
   "execution_count": 3,
   "metadata": {},
   "outputs": [],
   "source": [
    "\n",
    "def plot_multiple_images(images, n_rows, n_cols, pad=2):\n",
    "    images = images - images.min()  # make the minimum == 0, so the padding looks white\n",
    "    w,h = images.shape[1:]\n",
    "    image = np.zeros(((w+pad)*n_rows+pad, (h+pad)*n_cols+pad))\n",
    "    for y in range(n_rows):\n",
    "        for x in range(n_cols):\n",
    "            image[(y*(h+pad)+pad):(y*(h+pad)+pad+h),(x*(w+pad)+pad):(x*(w+pad)+pad+w)] = images[y*n_cols+x]\n",
    "    plt.imshow(image, cmap=\"Greys\", interpolation=\"nearest\")\n",
    "    plt.axis(\"off\")\n",
    "  "
   ]
  },
  {
   "cell_type": "markdown",
   "metadata": {},
   "source": [
    "# Autoencoders"
   ]
  },
  {
   "cell_type": "code",
   "execution_count": 4,
   "metadata": {},
   "outputs": [],
   "source": [
    "# Autoencoders are types of machine learning algorithms that seek to learn the patterns in data to reproduce that data using these learned patterns.\n",
    "# Examples are software that can generate faces, popular music, paintings, etc...\n",
    "# To find the fundamental patterns, of the data, mathematically, there is a process of dimensionality reduction that is used."
   ]
  },
  {
   "cell_type": "markdown",
   "metadata": {},
   "source": [
    "# PCA with a linear Autoencoder"
   ]
  },
  {
   "cell_type": "code",
   "execution_count": 5,
   "metadata": {},
   "outputs": [],
   "source": [
    "import numpy.random as rnd\n",
    "\n",
    "rnd.seed(4)\n",
    "m = 200\n",
    "w1, w2 = 0.1, 0.3\n",
    "noise = 0.1\n",
    "\n",
    "angles = rnd.rand(m) * 3 * np.pi / 2 - 0.5\n",
    "data = np.empty((m, 3))\n",
    "data[:, 0] = np.cos(angles) + np.sin(angles)/2 + noise * rnd.randn(m) / 2\n",
    "data[:, 1] = np.sin(angles) * 0.7 + noise * rnd.randn(m) / 2\n",
    "data[:, 2] = data[:, 0] * w1 + data[:, 1] * w2 + noise * rnd.randn(m)"
   ]
  },
  {
   "cell_type": "code",
   "execution_count": 6,
   "metadata": {},
   "outputs": [],
   "source": [
    "# Normalize the data:\n",
    "\n",
    "\n",
    "from sklearn.preprocessing import StandardScaler\n",
    "scaler = StandardScaler()\n",
    "X_train = scaler.fit_transform(data[:100])\n",
    "X_test = scaler.transform(data[100:])"
   ]
  },
  {
   "cell_type": "code",
   "execution_count": 7,
   "metadata": {},
   "outputs": [
    {
     "name": "stderr",
     "output_type": "stream",
     "text": [
      "/home/lam/ml/env/lib/python3.6/site-packages/tensorflow/python/framework/dtypes.py:469: FutureWarning: Passing (type, 1) or '1type' as a synonym of type is deprecated; in a future version of numpy, it will be understood as (type, (1,)) / '(1,)type'.\n",
      "  _np_qint8 = np.dtype([(\"qint8\", np.int8, 1)])\n",
      "/home/lam/ml/env/lib/python3.6/site-packages/tensorflow/python/framework/dtypes.py:470: FutureWarning: Passing (type, 1) or '1type' as a synonym of type is deprecated; in a future version of numpy, it will be understood as (type, (1,)) / '(1,)type'.\n",
      "  _np_quint8 = np.dtype([(\"quint8\", np.uint8, 1)])\n",
      "/home/lam/ml/env/lib/python3.6/site-packages/tensorflow/python/framework/dtypes.py:471: FutureWarning: Passing (type, 1) or '1type' as a synonym of type is deprecated; in a future version of numpy, it will be understood as (type, (1,)) / '(1,)type'.\n",
      "  _np_qint16 = np.dtype([(\"qint16\", np.int16, 1)])\n",
      "/home/lam/ml/env/lib/python3.6/site-packages/tensorflow/python/framework/dtypes.py:472: FutureWarning: Passing (type, 1) or '1type' as a synonym of type is deprecated; in a future version of numpy, it will be understood as (type, (1,)) / '(1,)type'.\n",
      "  _np_quint16 = np.dtype([(\"quint16\", np.uint16, 1)])\n",
      "/home/lam/ml/env/lib/python3.6/site-packages/tensorflow/python/framework/dtypes.py:473: FutureWarning: Passing (type, 1) or '1type' as a synonym of type is deprecated; in a future version of numpy, it will be understood as (type, (1,)) / '(1,)type'.\n",
      "  _np_qint32 = np.dtype([(\"qint32\", np.int32, 1)])\n",
      "/home/lam/ml/env/lib/python3.6/site-packages/tensorflow/python/framework/dtypes.py:476: FutureWarning: Passing (type, 1) or '1type' as a synonym of type is deprecated; in a future version of numpy, it will be understood as (type, (1,)) / '(1,)type'.\n",
      "  np_resource = np.dtype([(\"resource\", np.ubyte, 1)])\n",
      "/home/lam/ml/env/lib/python3.6/importlib/_bootstrap.py:219: RuntimeWarning: compiletime version 3.5 of module 'tensorflow.python.framework.fast_tensor_util' does not match runtime version 3.6\n",
      "  return f(*args, **kwds)\n"
     ]
    }
   ],
   "source": [
    "# Now let's build the Autoencoder:\n",
    "\n",
    "import tensorflow as tf\n",
    "\n",
    "reset_graph()\n",
    "\n",
    "n_inputs = 3\n",
    "n_hidden = 2  # codings\n",
    "n_outputs = n_inputs\n",
    "\n",
    "learning_rate = 0.01\n",
    "\n",
    "X = tf.placeholder(tf.float32, shape=[None, n_inputs])\n",
    "hidden = tf.layers.dense(X, n_hidden)\n",
    "outputs = tf.layers.dense(hidden, n_outputs)\n",
    "\n",
    "reconstruction_loss = tf.reduce_mean(tf.square(outputs - X))\n",
    "\n",
    "optimizer = tf.train.AdamOptimizer(learning_rate)\n",
    "training_op = optimizer.minimize(reconstruction_loss)\n",
    "\n",
    "init = tf.global_variables_initializer()\n"
   ]
  },
  {
   "cell_type": "code",
   "execution_count": 8,
   "metadata": {},
   "outputs": [],
   "source": [
    "n_iterations = 1000\n",
    "codings = hidden\n",
    "\n",
    "with tf.Session() as sess:\n",
    "    init.run()\n",
    "    for iteration in range(n_iterations):\n",
    "        training_op.run(feed_dict={X: X_train})\n",
    "    codings_val = codings.eval(feed_dict={X: X_test})"
   ]
  },
  {
   "cell_type": "code",
   "execution_count": 9,
   "metadata": {},
   "outputs": [
    {
     "data": {
      "image/png": "[encoded data removed]",
      "text/plain": [
       "<Figure size 288x216 with 1 Axes>"
      ]
     },
     "metadata": {
      "needs_background": "light"
     },
     "output_type": "display_data"
    }
   ],
   "source": [
    "fig = plt.figure(figsize=(4,3))\n",
    "plt.plot(codings_val[:,0], codings_val[:, 1], \"b.\")\n",
    "plt.xlabel(\"$z_1$\", fontsize=18)\n",
    "plt.ylabel(\"$z_2$\", fontsize=18, rotation=0)\n",
    "plt.savefig(\"linear_autoencoder_pca_plot\")\n",
    "plt.show()"
   ]
  },
  {
   "cell_type": "markdown",
   "metadata": {},
   "source": [
    "# Stacked Autoencoders"
   ]
  },
  {
   "cell_type": "code",
   "execution_count": 10,
   "metadata": {},
   "outputs": [
    {
     "name": "stdout",
     "output_type": "stream",
     "text": [
      "Extracting /tmp/data/train-images-idx3-ubyte.gz\n",
      "Extracting /tmp/data/train-labels-idx1-ubyte.gz\n",
      "Extracting /tmp/data/t10k-images-idx3-ubyte.gz\n",
      "Extracting /tmp/data/t10k-labels-idx1-ubyte.gz\n"
     ]
    }
   ],
   "source": [
    "# Stacked Autoencoders are multiple encoders joined together to improve accuracy by allowing the autoencoder to learn more complex encodings.\n",
    "# There are different ways to train the stack of autoencoders.\n",
    "\n",
    "# First, let's import MNIST data to train on:\n",
    "\n",
    "from tensorflow.examples.tutorials.mnist import input_data\n",
    "mnist = input_data.read_data_sets(\"/tmp/data/\")"
   ]
  },
  {
   "cell_type": "markdown",
   "metadata": {},
   "source": [
    "# Train Stacked Autoencoder layers at once"
   ]
  },
  {
   "cell_type": "code",
   "execution_count": 11,
   "metadata": {},
   "outputs": [],
   "source": [
    "# We will build a stacked Autoencoder with 3 hidden layers and 1 output layer (ie. 2 stacked Autoencoders). We will use ELU activation, HE initialization and L2 regularization:\n",
    "\n",
    "reset_graph()\n",
    "\n",
    "from functools import partial\n",
    "\n",
    "n_inputs = 28 * 28\n",
    "n_hidden1 = 300\n",
    "n_hidden2 = 150  # codings\n",
    "n_hidden3 = n_hidden1\n",
    "n_outputs = n_inputs\n",
    "\n",
    "learning_rate = 0.01\n",
    "l2_reg = 0.0001\n",
    "\n",
    "X = tf.placeholder(tf.float32, shape=[None, n_inputs])\n",
    "\n",
    "he_init = tf.contrib.layers.variance_scaling_initializer() # He initialization\n",
    "#Equivalent to:\n",
    "#he_init = lambda shape, dtype=tf.float32: tf.truncated_normal(shape, 0., stddev=np.sqrt(2/shape[0]))\n",
    "l2_regularizer = tf.contrib.layers.l2_regularizer(l2_reg)\n",
    "my_dense_layer = partial(tf.layers.dense,\n",
    "                         activation=tf.nn.elu,\n",
    "                         kernel_initializer=he_init,\n",
    "                         kernel_regularizer=l2_regularizer)\n",
    "\n",
    "hidden1 = my_dense_layer(X, n_hidden1)\n",
    "hidden2 = my_dense_layer(hidden1, n_hidden2)\n",
    "hidden3 = my_dense_layer(hidden2, n_hidden3)\n",
    "outputs = my_dense_layer(hidden3, n_outputs, activation=None)\n",
    "\n",
    "reconstruction_loss = tf.reduce_mean(tf.square(outputs - X))\n",
    "\n",
    "reg_losses = tf.get_collection(tf.GraphKeys.REGULARIZATION_LOSSES)\n",
    "loss = tf.add_n([reconstruction_loss] + reg_losses)\n",
    "\n",
    "optimizer = tf.train.AdamOptimizer(learning_rate)\n",
    "training_op = optimizer.minimize(loss)\n",
    "\n",
    "init = tf.global_variables_initializer()\n",
    "saver = tf.train.Saver() # not shown in the book"
   ]
  },
  {
   "cell_type": "code",
   "execution_count": 12,
   "metadata": {},
   "outputs": [
    {
     "name": "stdout",
     "output_type": "stream",
     "text": [
      "0 Train MSE: 0.020987533\n",
      "1 Train MSE: 0.011441894\n",
      "2 Train MSE: 0.010220509\n",
      "3 Train MSE: 0.009898585\n",
      "4 Train MSE: 0.010376164\n"
     ]
    }
   ],
   "source": [
    "# Now let's train the model. Note that we don't feed target values (y_batch is not used). This is supervised training.\n",
    "\n",
    "n_epochs = 5\n",
    "batch_size = 150\n",
    "\n",
    "with tf.Session() as sess:\n",
    "    init.run()\n",
    "    for epoch in range(n_epochs):\n",
    "        n_batches = mnist.train.num_examples // batch_size\n",
    "        for iteration in range(n_batches):\n",
    "            print(\"\\r{}%\".format(100 * iteration // n_batches), end=\"\") # not shown in the book\n",
    "            sys.stdout.flush()                                          # not shown\n",
    "            X_batch, y_batch = mnist.train.next_batch(batch_size)\n",
    "            sess.run(training_op, feed_dict={X: X_batch})\n",
    "        loss_train = reconstruction_loss.eval(feed_dict={X: X_batch})   # not shown\n",
    "        print(\"\\r{}\".format(epoch), \"Train MSE:\", loss_train)           # not shown\n",
    "        saver.save(sess, \"./my_model_all_layers.ckpt\")                  # not shown"
   ]
  },
  {
   "cell_type": "code",
   "execution_count": 13,
   "metadata": {},
   "outputs": [],
   "source": [
    "# This function loads the model, evaluates it on the test set (it measures the reconstruction error), then it displays the original image and its reconstruction:\n",
    "\n",
    "def show_reconstructed_digits(X, outputs, model_path = None, n_test_digits = 2):\n",
    "    with tf.Session() as sess:\n",
    "        if model_path:\n",
    "            saver.restore(sess, model_path)\n",
    "        X_test = mnist.test.images[:n_test_digits]\n",
    "        outputs_val = outputs.eval(feed_dict={X: X_test})\n",
    "\n",
    "    fig = plt.figure(figsize=(8, 3 * n_test_digits))\n",
    "    for digit_index in range(n_test_digits):\n",
    "        plt.subplot(n_test_digits, 2, digit_index * 2 + 1)\n",
    "        plot_image(X_test[digit_index])\n",
    "        plt.subplot(n_test_digits, 2, digit_index * 2 + 2)\n",
    "        plot_image(outputs_val[digit_index])"
   ]
  },
  {
   "cell_type": "code",
   "execution_count": 14,
   "metadata": {},
   "outputs": [
    {
     "name": "stdout",
     "output_type": "stream",
     "text": [
      "INFO:tensorflow:Restoring parameters from ./my_model_all_layers.ckpt\n"
     ]
    },
    {
     "data": {
      "image/png": "[encoded data removed]",
      "text/plain": [
       "<Figure size 576x432 with 4 Axes>"
      ]
     },
     "metadata": {
      "needs_background": "light"
     },
     "output_type": "display_data"
    }
   ],
   "source": [
    "show_reconstructed_digits(X, outputs, \"./my_model_all_layers.ckpt\")\n",
    "plt.savefig(\"reconstruction_plot\")"
   ]
  },
  {
   "cell_type": "markdown",
   "metadata": {},
   "source": [
    "# Tying Weights\n",
    "\n"
   ]
  },
  {
   "cell_type": "code",
   "execution_count": 15,
   "metadata": {},
   "outputs": [],
   "source": [
    "# When an autoencoder is symmetrical, it is a common technique to tie the weights of the decoder layers to the weights of the encoder layers.\n",
    "# This halves the number of weights in the model, speeding up training and reducing the risk of overfitting.\n",
    "\n",
    "# Unfortunately, implementing tied weights in TensorFlow makes using the dense() function cumbersome.\n",
    "# It is easier to build the Autoencoder manually:\n",
    "\n",
    "reset_graph()\n",
    "\n",
    "n_inputs = 28 * 28\n",
    "n_hidden1 = 300\n",
    "n_hidden2 = 150 # codings\n",
    "n_hidden3 = n_hidden1\n",
    "n_outputs = n_inputs\n",
    "\n",
    "learning_rate = 0.01\n",
    "l2_reg = 0.0005"
   ]
  },
  {
   "cell_type": "code",
   "execution_count": 16,
   "metadata": {},
   "outputs": [],
   "source": [
    "activation = tf.nn.elu\n",
    "regularizer = tf.contrib.layers.l2_regularizer(l2_reg)\n",
    "initializer = tf.contrib.layers.variance_scaling_initializer()\n",
    "\n",
    "X = tf.placeholder(tf.float32, shape=[None, n_inputs])\n",
    "\n",
    "weights1_init = initializer([n_inputs, n_hidden1])\n",
    "weights2_init = initializer([n_hidden1, n_hidden2])\n",
    "\n",
    "weights1 = tf.Variable(weights1_init, dtype=tf.float32, name=\"weights1\")\n",
    "weights2 = tf.Variable(weights2_init, dtype=tf.float32, name=\"weights2\")\n",
    "weights3 = tf.transpose(weights2, name=\"weights3\") # tied weights\n",
    "weights4 = tf.transpose(weights1, name=\"weights4\") # tied weights\n",
    "\n",
    "biases1 = tf.Variable(tf.zeros(n_hidden1), name=\"biases1\")\n",
    "biases2 = tf.Variable(tf.zeros(n_hidden2), name=\"biases2\")\n",
    "biases3 = tf.Variable(tf.zeros(n_hidden3), name=\"biases3\")\n",
    "biases4 = tf.Variable(tf.zeros(n_outputs), name=\"biases4\")\n",
    "\n",
    "hidden1 = activation(tf.matmul(X, weights1) + biases1)\n",
    "hidden2 = activation(tf.matmul(hidden1, weights2) + biases2)\n",
    "hidden3 = activation(tf.matmul(hidden2, weights3) + biases3)\n",
    "outputs = tf.matmul(hidden3, weights4) + biases4\n",
    "\n",
    "reconstruction_loss = tf.reduce_mean(tf.square(outputs - X))\n",
    "reg_loss = regularizer(weights1) + regularizer(weights2)\n",
    "loss = reconstruction_loss + reg_loss\n",
    "\n",
    "optimizer = tf.train.AdamOptimizer(learning_rate)\n",
    "training_op = optimizer.minimize(loss)\n",
    "\n",
    "init = tf.global_variables_initializer()"
   ]
  },
  {
   "cell_type": "code",
   "execution_count": 17,
   "metadata": {},
   "outputs": [],
   "source": [
    "saver = tf.train.Saver()"
   ]
  },
  {
   "cell_type": "code",
   "execution_count": 18,
   "metadata": {},
   "outputs": [
    {
     "name": "stdout",
     "output_type": "stream",
     "text": [
      "0 Train MSE: 0.015066671\n",
      "1 Train MSE: 0.016488358\n",
      "2 Train MSE: 0.017375689\n",
      "3 Train MSE: 0.016878145\n",
      "4 Train MSE: 0.015587544\n"
     ]
    }
   ],
   "source": [
    "n_epochs = 5\n",
    "batch_size = 150\n",
    "\n",
    "with tf.Session() as sess:\n",
    "    init.run()\n",
    "    for epoch in range(n_epochs):\n",
    "        n_batches = mnist.train.num_examples // batch_size\n",
    "        for iteration in range(n_batches):\n",
    "            print(\"\\r{}%\".format(100 * iteration // n_batches), end=\"\")\n",
    "            sys.stdout.flush()\n",
    "            X_batch, y_batch = mnist.train.next_batch(batch_size)\n",
    "            sess.run(training_op, feed_dict={X: X_batch})\n",
    "        loss_train = reconstruction_loss.eval(feed_dict={X: X_batch})\n",
    "        print(\"\\r{}\".format(epoch), \"Train MSE:\", loss_train)\n",
    "        saver.save(sess, \"./my_model_tying_weights.ckpt\")"
   ]
  },
  {
   "cell_type": "code",
   "execution_count": 19,
   "metadata": {},
   "outputs": [
    {
     "name": "stdout",
     "output_type": "stream",
     "text": [
      "INFO:tensorflow:Restoring parameters from ./my_model_tying_weights.ckpt\n"
     ]
    },
    {
     "data": {
      "image/png": "[encoded data removed]",
      "text/plain": [
       "<Figure size 576x432 with 4 Axes>"
      ]
     },
     "metadata": {
      "needs_background": "light"
     },
     "output_type": "display_data"
    }
   ],
   "source": [
    "show_reconstructed_digits(X, outputs, \"./my_model_tying_weights.ckpt\")"
   ]
  },
  {
   "cell_type": "markdown",
   "metadata": {},
   "source": [
    "# Training one Autoencoder at a time in multiple graphs"
   ]
  },
  {
   "cell_type": "code",
   "execution_count": 20,
   "metadata": {},
   "outputs": [],
   "source": [
    "# Rather than training the whole stacked encoder at once,\n",
    "# It is often much faster to train one shallow encoder at a time,\n",
    "# Then stack all of them into a single stacked autoencoder.\n",
    "# This is especially useful for deep autoencoders.\n",
    "\n"
   ]
  },
  {
   "cell_type": "code",
   "execution_count": 21,
   "metadata": {},
   "outputs": [],
   "source": [
    "# During the first phase of training, the first autoencoder learns to reconstruct the inputs.\n",
    "# During the second phase, the second autoencoder learns to reconstruct the output of the first autoencoder's hidden layer.\n",
    "# Finally, you combine(ie, first you stack the hidden layers of each autoencoder, then the output layers in reverse order).\n",
    "\n"
   ]
  },
  {
   "cell_type": "code",
   "execution_count": 22,
   "metadata": {},
   "outputs": [],
   "source": [
    "# There are many ways to train one Autoencoder at a time. The first approach is to train each Autoencoder using a different graph,\n",
    "# Then we create the Stacked Autoencoder by simply initializing it with the weights and biases copied from these Autoencoders.\n",
    "\n",
    "# Let's create a function that will train one autoencoder and return the transformed training set and model parameters.\n",
    "\n",
    "reset_graph()\n",
    "\n",
    "from functools import partial\n",
    "\n",
    "def train_autoencoder(X_train, n_neurons, n_epochs, batch_size,\n",
    "                     learning_rate = 0.01, l2_reg = 0.0005, seed=42,\n",
    "                     hidden_activation=tf.nn.elu,\n",
    "                     output_activation=tf.nn.elu):\n",
    "    graph = tf.Graph()\n",
    "    with graph.as_default():\n",
    "        tf.set_random_seed(seed)\n",
    "        \n",
    "        n_inputs = X_train.shape[1]\n",
    "        \n",
    "        X = tf.placeholder(tf.float32, shape=[None, n_inputs])\n",
    "        \n",
    "        my_dense_layer = partial(\n",
    "            tf.layers.dense,\n",
    "            kernel_initializer=tf.contrib.layers.variance_scaling_initializer(),\n",
    "            kernel_regularizer=tf.contrib.layers.l2_regularizer(l2_reg))\n",
    "        \n",
    "        hidden = my_dense_layer(X, n_neurons, activation=hidden_activation, name=\"hidden\")\n",
    "        outputs = my_dense_layer(hidden, n_inputs, activation=output_activation, name=\"outputs\")\n",
    "        \n",
    "        reconstruction_loss = tf.reduce_mean(tf.square(outputs - X))\n",
    "        \n",
    "        reg_losses = tf.get_collection(tf.GraphKeys.REGULARIZATION_LOSSES)\n",
    "        loss = tf.add_n([reconstruction_loss] + reg_losses)\n",
    "        \n",
    "        optimizer = tf.train.AdamOptimizer(learning_rate)\n",
    "        training_op = optimizer.minimize(loss)\n",
    "        \n",
    "        init = tf.global_variables_initializer()\n",
    "        \n",
    "    with tf.Session(graph=graph) as sess:\n",
    "        init.run()\n",
    "        for epoch in range(n_epochs):\n",
    "            n_batches = len(X_train) // batch_size\n",
    "            for iteration in range(n_batches):\n",
    "                print(\"\\r{}%\".format(100 * iteration // n_batches), end=\"\")\n",
    "                sys.stdout.flush()\n",
    "                indices = rnd.permutation(len(X_train))[:batch_size]\n",
    "                X_batch = X_train[indices]\n",
    "                sess.run(training_op, feed_dict={X: X_batch})\n",
    "            loss_train = reconstruction_loss.eval(feed_dict={X: X_batch})\n",
    "            print(\"\\r{}\".format(epoch), \"Train MSE:\", loss_train)\n",
    "        params = dict([(var.name, var.eval()) for var in tf.get_collection(tf.GraphKeys.TRAINABLE_VARIABLES)])\n",
    "        hidden_val = hidden.eval(feed_dict={X: X_train})\n",
    "        return hidden_val, params[\"hidden/kernel:0\"], params[\"hidden/bias:0\"], params[\"outputs/kernel:0\"], params[\"outputs/bias:0\"]\n",
    "                \n",
    "            "
   ]
  },
  {
   "cell_type": "code",
   "execution_count": 23,
   "metadata": {},
   "outputs": [
    {
     "name": "stdout",
     "output_type": "stream",
     "text": [
      "0 Train MSE: 0.0185175\n",
      "1 Train MSE: 0.018682454\n",
      "2 Train MSE: 0.01846751\n",
      "3 Train MSE: 0.019231487\n",
      "0 Train MSE: 0.0042361016\n",
      "1 Train MSE: 0.0048326678\n",
      "2 Train MSE: 0.0046687284\n",
      "3 Train MSE: 0.004403899\n"
     ]
    }
   ],
   "source": [
    "# Now let's train two Autoencoders. The first one is trained on the training data, and the second is trained on the previous Autoencoder's hidden layer output:\n",
    "\n",
    "hidden_output, W1, b1, W4, b4 = train_autoencoder(mnist.train.images, n_neurons=300, n_epochs=4, batch_size=150, output_activation=None)\n",
    "_, W2, b2, W3, b3 = train_autoencoder(hidden_output, n_neurons=150, n_epochs=4, batch_size=150)"
   ]
  },
  {
   "cell_type": "code",
   "execution_count": 24,
   "metadata": {},
   "outputs": [],
   "source": [
    "# Finally, we create a Stacked Encoder by simply reusing the weights and biases from the Autoencoders we just trained:\n",
    "\n",
    "reset_graph()\n",
    "\n",
    "n_inputs = 28 * 28\n",
    "\n",
    "X = tf.placeholder(tf.float32, shape=[None, n_inputs])\n",
    "hidden1 = tf.nn.elu(tf.matmul(X, W1) + b1)\n",
    "hidden2 = tf.nn.elu(tf.matmul(hidden1, W2) + b2)\n",
    "hidden3 = tf.nn.elu(tf.matmul(hidden2, W3) + b3)\n",
    "outputs = tf.matmul(hidden3, W4) + b4"
   ]
  },
  {
   "cell_type": "code",
   "execution_count": 25,
   "metadata": {},
   "outputs": [
    {
     "data": {
      "image/png": "[encoded data removed]",
      "text/plain": [
       "<Figure size 576x432 with 4 Axes>"
      ]
     },
     "metadata": {
      "needs_background": "light"
     },
     "output_type": "display_data"
    }
   ],
   "source": [
    "show_reconstructed_digits(X, outputs)"
   ]
  },
  {
   "cell_type": "markdown",
   "metadata": {},
   "source": [
    "# Training one Autoencoder at a time in a single graph"
   ]
  },
  {
   "cell_type": "code",
   "execution_count": 26,
   "metadata": {},
   "outputs": [],
   "source": [
    "# Another approach is to use a single graph.\n",
    "# To do this, we create the graph for the full Stacked Autoencoder.\n",
    "# But then we also add operations to train each Autoencoder independently:\n",
    "    # Phase 1 trains the bottom and top layer (ie. the first Autoencoder)\n",
    "    # Phase 2 trains the two middle layers (ie. the second Autoencoder)\n",
    "    \n",
    "reset_graph()\n",
    "\n",
    "n_inputs = 28 * 28\n",
    "n_hidden1 = 300\n",
    "n_hidden2 = 150 # codings\n",
    "n_hidden3 = n_hidden1\n",
    "n_outputs = n_inputs\n",
    "\n",
    "learning_rate = 0.01\n",
    "l2_reg = 0.0001\n",
    "\n",
    "activation = tf.nn.elu\n",
    "regularizer = tf.contrib.layers.l2_regularizer(l2_reg)\n",
    "initializer = tf.contrib.layers.variance_scaling_initializer()\n",
    "\n",
    "X = tf.placeholder(tf.float32, shape=[None, n_inputs])\n",
    "\n",
    "weights1_init = initializer([n_inputs, n_hidden1])\n",
    "weights2_init = initializer([n_hidden1, n_hidden2])\n",
    "weights3_init = initializer([n_hidden2, n_hidden3])\n",
    "weights4_init = initializer([n_hidden3, n_outputs])\n",
    "\n",
    "weights1 = tf.Variable(weights1_init, dtype=tf.float32, name=\"weights1\")\n",
    "weights2 = tf.Variable(weights2_init, dtype=tf.float32, name=\"weights2\")\n",
    "weights3 = tf.Variable(weights3_init, dtype=tf.float32, name=\"weights3\")\n",
    "weights4 = tf.Variable(weights4_init, dtype=tf.float32, name=\"weights4\")\n",
    "\n",
    "biases1 = tf.Variable(tf.zeros(n_hidden1), name=\"biases1\")\n",
    "biases2 = tf.Variable(tf.zeros(n_hidden2), name=\"biases2\")\n",
    "biases3 = tf.Variable(tf.zeros(n_hidden3), name=\"biases3\")\n",
    "biases4 = tf.Variable(tf.zeros(n_outputs), name=\"biases4\")\n",
    "\n",
    "hidden1 = activation(tf.matmul(X, weights1) + biases1)\n",
    "hidden2 = activation(tf.matmul(hidden1, weights2) + biases2)\n",
    "hidden3 = activation(tf.matmul(hidden2, weights3) + biases3)\n",
    "outputs = tf.matmul(hidden3, weights4) + biases4\n",
    "\n",
    "reconstruction_loss = tf.reduce_mean(tf.square(outputs - X))"
   ]
  },
  {
   "cell_type": "code",
   "execution_count": 27,
   "metadata": {},
   "outputs": [],
   "source": [
    "optimizer = tf.train.AdamOptimizer(learning_rate)\n",
    "\n",
    "with tf.name_scope(\"phase1\"):\n",
    "    phase1_outputs = tf.matmul(hidden1, weights4) + biases4 # bypass hidden2 and hidden3\n",
    "    phase1_reconstruction_loss = tf.reduce_mean(tf.square(phase1_outputs - X))\n",
    "    phase1_reg_loss = regularizer(weights1) + regularizer(weights4)\n",
    "    phase1_loss = phase1_reconstruction_loss + phase1_reg_loss\n",
    "    phase1_training_op = optimizer.minimize(phase1_loss)\n",
    "    \n",
    "with tf.name_scope(\"phase2\"):\n",
    "    phase2_reconstruction_loss = tf.reduce_mean(tf.square(hidden3 - hidden1))\n",
    "    phase2_reg_loss = regularizer(weights2) + regularizer(weights3)\n",
    "    phase2_loss = phase2_reconstruction_loss + phase2_reg_loss\n",
    "    train_vars = [weights2, biases2, weights3, biases3]\n",
    "    phase2_training_op = optimizer.minimize(phase2_loss, var_list=train_vars) # freeze hidden1"
   ]
  },
  {
   "cell_type": "code",
   "execution_count": 28,
   "metadata": {},
   "outputs": [],
   "source": [
    "init = tf.global_variables_initializer()\n",
    "saver = tf.train.Saver()"
   ]
  },
  {
   "cell_type": "code",
   "execution_count": 29,
   "metadata": {},
   "outputs": [
    {
     "name": "stdout",
     "output_type": "stream",
     "text": [
      "Training phase #1\n",
      "0 Train MSE: 0.007406794\n",
      "1 Train MSE: 0.007828663\n",
      "2 Train MSE: 0.0077280253\n",
      "3 Train MSE: 0.007408932\n",
      "Test MSE: 0.10571471\n",
      "Training phase #2\n",
      "0 Train MSE: 0.4187721\n",
      "1 Train MSE: 0.0066193673\n",
      "2 Train MSE: 0.0031084241\n",
      "3 Train MSE: 0.0024261232\n",
      "Test MSE: 0.0097884685\n"
     ]
    }
   ],
   "source": [
    "training_ops = [phase1_training_op, phase2_training_op]\n",
    "reconstruction_losses = [phase1_reconstruction_loss, phase2_reconstruction_loss]\n",
    "n_epochs = [4, 4]\n",
    "batch_sizes = [150, 150]\n",
    "\n",
    "with tf.Session() as sess:\n",
    "    init.run()\n",
    "    for phase in range(2):\n",
    "        print(\"Training phase #{}\".format(phase + 1))\n",
    "        for epoch in range(n_epochs[phase]):\n",
    "            n_batches = mnist.train.num_examples // batch_sizes[phase]\n",
    "            for iteration in range(n_batches):\n",
    "                print(\"\\r{}%\".format(100 * iteration // n_batches), end=\"\")\n",
    "                sys.stdout.flush()\n",
    "                X_batch, y_batch = mnist.train.next_batch(batch_sizes[phase])\n",
    "                sess.run(training_ops[phase], feed_dict={X: X_batch})\n",
    "            loss_train = reconstruction_losses[phase].eval(feed_dict={X: X_batch})\n",
    "            print(\"\\r{}\".format(epoch), \"Train MSE:\", loss_train)\n",
    "            saver.save(sess, \"./my_model_one_at_a_time.ckpt\")\n",
    "        loss_test = reconstruction_loss.eval(feed_dict={X: mnist.test.images})\n",
    "        print(\"Test MSE:\", loss_test)"
   ]
  },
  {
   "cell_type": "markdown",
   "metadata": {},
   "source": [
    "# Cache the frozen layer outputs"
   ]
  },
  {
   "cell_type": "code",
   "execution_count": 30,
   "metadata": {},
   "outputs": [
    {
     "name": "stdout",
     "output_type": "stream",
     "text": [
      "Training phase #1\n",
      "0 Train MSE: 0.0075381654\n",
      "1 Train MSE: 0.0077545666\n",
      "2 Train MSE: 0.0073435875\n",
      "3 Train MSE: 0.007837683\n",
      "Training phase #2\n",
      "0 Train MSE: 0.2143637\n",
      "1 Train MSE: 0.004208874\n",
      "2 Train MSE: 0.0024039664\n",
      "3 Train MSE: 0.0020118433\n",
      "Test MSE: 0.009765391\n"
     ]
    }
   ],
   "source": [
    "training_ops = [phase1_training_op, phase2_training_op]\n",
    "reconstruction_losses = [phase1_reconstruction_loss, phase2_reconstruction_loss]\n",
    "n_epochs = [4, 4]\n",
    "batch_sizes = [150, 150]\n",
    "\n",
    "with tf.Session() as sess:\n",
    "    init.run()\n",
    "    for phase in range(2):\n",
    "        print(\"Training phase #{}\".format(phase + 1))\n",
    "        if phase == 1:\n",
    "            hidden1_cache = hidden1.eval(feed_dict={X: mnist.train.images})\n",
    "        for epoch in range(n_epochs[phase]):\n",
    "            n_batches = mnist.train.num_examples // batch_sizes[phase]\n",
    "            for iteration in range(n_batches):\n",
    "                print(\"\\r{}%\".format(100 * iteration // n_batches), end=\"\")\n",
    "                sys.stdout.flush()\n",
    "                if phase == 1:\n",
    "                    indices = rnd.permutation(mnist.train.num_examples)\n",
    "                    hidden1_batch = hidden1_cache[indices[:batch_sizes[phase]]]\n",
    "                    feed_dict = {hidden1: hidden1_batch}\n",
    "                    sess.run(training_ops[phase], feed_dict=feed_dict)\n",
    "                else:\n",
    "                    X_batch, y_batch = mnist.train.next_batch(batch_sizes[phase])\n",
    "                    feed_dict = {X: X_batch}\n",
    "                    sess.run(training_ops[phase], feed_dict=feed_dict)\n",
    "            loss_train = reconstruction_losses[phase].eval(feed_dict=feed_dict)\n",
    "            print(\"\\r{}\".format(epoch), \"Train MSE:\", loss_train)\n",
    "            saver.save(sess, \"./my_model_cache_frozen.ckpt\")\n",
    "    loss_test = reconstruction_loss.eval(feed_dict={X: mnist.test.images})\n",
    "    print(\"Test MSE:\", loss_test)\n",
    "                "
   ]
  },
  {
   "cell_type": "markdown",
   "metadata": {},
   "source": [
    "# Visualizing the Reconstructions"
   ]
  },
  {
   "cell_type": "code",
   "execution_count": 31,
   "metadata": {},
   "outputs": [
    {
     "name": "stdout",
     "output_type": "stream",
     "text": [
      "INFO:tensorflow:Restoring parameters from ./my_model_one_at_a_time.ckpt\n"
     ]
    },
    {
     "data": {
      "image/png": "[encoded data removed]",
      "text/plain": [
       "<Figure size 432x288 with 4 Axes>"
      ]
     },
     "metadata": {
      "needs_background": "light"
     },
     "output_type": "display_data"
    }
   ],
   "source": [
    "# One way to ensure that an autoencoder is properly trained is to compare the inputs and the outputs.\n",
    "# They must be fairly similar, and the differences should be unimportant details. \n",
    "# Let's plot two random digits and their reconstructions:\n",
    "\n",
    "n_test_digits = 2\n",
    "X_test = mnist.test.images[:n_test_digits]\n",
    "\n",
    "with tf.Session() as sess:\n",
    "    saver.restore(sess, \"./my_model_one_at_a_time.ckpt\") # not shown in the book\n",
    "    outputs_val = outputs.eval(feed_dict={X: X_test})\n",
    "    \n",
    "def plot_image(image, shape=[28, 28]):\n",
    "    plt.imshow(image.reshape(shape), cmap=\"Greys\", interpolation=\"nearest\")\n",
    "    plt.axis(\"off\")\n",
    "    \n",
    "for digit_index in range(n_test_digits):\n",
    "    plt.subplot(n_test_digits, 2, digit_index * 2 + 1)\n",
    "    plot_image(X_test[digit_index])\n",
    "    plt.subplot(n_test_digits, 2, digit_index * 2 + 2)\n",
    "    plot_image(outputs_val[digit_index])"
   ]
  },
  {
   "cell_type": "markdown",
   "metadata": {},
   "source": [
    "# Visualizing the extracted features"
   ]
  },
  {
   "cell_type": "code",
   "execution_count": 32,
   "metadata": {},
   "outputs": [],
   "source": [
    "# Once the autoencoder has learned some features, you might want to take a look at them.\n",
    "# There are various techniques. The simplest technique is to consider each neuron in every hidden layer, and find the training instancrs that activate it most.\n",
    "    # This technique is especially useful for the top hidden layers, since they often capture relatively large features that you can easily spot in a group.\n",
    "    # However this doesn't work for the lower level layers, since the features are more vague and abstract."
   ]
  },
  {
   "cell_type": "code",
   "execution_count": 33,
   "metadata": {},
   "outputs": [
    {
     "name": "stdout",
     "output_type": "stream",
     "text": [
      "INFO:tensorflow:Restoring parameters from ./my_model_one_at_a_time.ckpt\n"
     ]
    },
    {
     "data": {
      "image/png": "[encoded data removed]",
      "text/plain": [
       "<Figure size 432x288 with 5 Axes>"
      ]
     },
     "metadata": {
      "needs_background": "light"
     },
     "output_type": "display_data"
    }
   ],
   "source": [
    "# Another technique for visualizing extracted features is that for each neuron in the first hidden layer,\n",
    "# You can create an image where a pixel's intensity corresponds to the weight of the connection to the given neuron.\n",
    "\n",
    "# The following code plots the features learned by five neurons in the first hidden layer:\n",
    "\n",
    "with tf.Session() as sess:\n",
    "    saver.restore(sess, \"./my_model_one_at_a_time.ckpt\") # not shown in the book\n",
    "    weights1_val = weights1.eval()\n",
    "    \n",
    "for i in range(5):\n",
    "    plt.subplot(1, 5, i + 1)\n",
    "    plot_image(weights1_val.T[i])\n",
    "    \n",
    "plt.savefig(\"extracted_features_plot\")\n",
    "plt.show()"
   ]
  },
  {
   "cell_type": "markdown",
   "metadata": {},
   "source": [
    "# Unsupervised pretraining using stacked encoders"
   ]
  },
  {
   "cell_type": "code",
   "execution_count": 34,
   "metadata": {},
   "outputs": [],
   "source": [
    "# If you are training a model for a complex task, but don't have alot of labeled training data,\n",
    "# One solution is to find a similar model that was trained to do a similar task and reuse its lower layers.\n",
    "    # This allows the training of a high performance model using only a small amount of training data.\n",
    "    \n",
    "# Similarly, if you have a large dataset, but most of it is unlabeled,\n",
    "    # You can first train the autoencoder using all the data, reuse the lower layers of the model\n",
    "    # And refine the model on the smaller amount of actual labeled training data that you have.\n",
    "    "
   ]
  },
  {
   "cell_type": "code",
   "execution_count": 35,
   "metadata": {},
   "outputs": [],
   "source": [
    "# Let's create a small neural network for MNIST classification:\n",
    "\n",
    "reset_graph()\n",
    "\n",
    "n_inputs= 28 * 28\n",
    "n_hidden1 = 300\n",
    "n_hidden2 = 150\n",
    "n_outputs = 10\n",
    "\n",
    "learning_rate = 0.01\n",
    "l2_reg = 0.0005\n",
    "\n",
    "activation = tf.nn.elu\n",
    "regularizer = tf.contrib.layers.l2_regularizer(l2_reg)\n",
    "initializer= tf.contrib.layers.variance_scaling_initializer()\n",
    "\n",
    "X = tf.placeholder(tf.float32, shape=[None, n_inputs])\n",
    "y = tf.placeholder(tf.int32, shape=[None])\n",
    "\n",
    "weights1_init = initializer([n_inputs, n_hidden1])\n",
    "weights2_init = initializer([n_hidden1, n_hidden2])\n",
    "weights3_init = initializer([n_hidden2, n_outputs])\n",
    "\n",
    "weights1 = tf.Variable(weights1_init, dtype=tf.float32, name=\"weights1\")\n",
    "weights2 = tf.Variable(weights2_init, dtype=tf.float32, name=\"weights2\")\n",
    "weights3 = tf.Variable(weights3_init, dtype=tf.float32, name=\"weights3\")\n",
    "\n",
    "biases1 = tf.Variable(tf.zeros(n_hidden1), name=\"biases1\")\n",
    "biases2 = tf.Variable(tf.zeros(n_hidden2), name=\"biases2\")\n",
    "biases3 = tf.Variable(tf.zeros(n_outputs), name=\"biases3\")\n",
    "\n",
    "hidden1 = activation(tf.matmul(X, weights1) + biases1)\n",
    "hidden2 = activation(tf.matmul(hidden1, weights2) + biases2)\n",
    "logits = tf.matmul(hidden2, weights3) + biases3\n",
    "\n",
    "cross_entropy = tf.nn.sparse_softmax_cross_entropy_with_logits(labels=y, logits=logits)\n",
    "reg_loss = regularizer(weights1) + regularizer(weights2) + regularizer(weights3)\n",
    "loss = cross_entropy + reg_loss\n",
    "optimizer = tf.train.AdamOptimizer(learning_rate)\n",
    "training_op = optimizer.minimize(loss)\n",
    "\n",
    "correct = tf.nn.in_top_k(logits, y, 1)\n",
    "accuracy = tf.reduce_mean(tf.cast(correct, tf.float32))\n",
    "\n",
    "init = tf.global_variables_initializer()\n",
    "pretrain_saver = tf.train.Saver([weights1, weights2, biases2])\n",
    "saver = tf.train.Saver()"
   ]
  },
  {
   "cell_type": "code",
   "execution_count": 36,
   "metadata": {},
   "outputs": [
    {
     "name": "stdout",
     "output_type": "stream",
     "text": [
      "0 Train accuracy: 0.97333336 Test accuracy: 0.9334\n",
      "1 Train accuracy: 0.98 Test accuracy: 0.9359\n",
      "2 Train accuracy: 0.97333336 Test accuracy: 0.9382\n",
      "3 Train accuracy: 0.9866667 Test accuracy: 0.9495\n"
     ]
    }
   ],
   "source": [
    "# Regular training (without pretraining):\n",
    "\n",
    "n_epochs = 4\n",
    "batch_size = 150\n",
    "n_labeled_instances = 20000\n",
    "\n",
    "with tf.Session() as sess:\n",
    "    init.run()\n",
    "    for epoch in range(n_epochs):\n",
    "        n_batches = n_labeled_instances // batch_size\n",
    "        for iteration in range(n_batches):\n",
    "            print(\"\\r{}%\".format(100 * iteration // n_batches), end=\"\")\n",
    "            sys.stdout.flush()\n",
    "            indices = rnd.permutation(n_labeled_instances)[:batch_size]\n",
    "            X_batch, y_batch = mnist.train.images[indices], mnist.train.labels[indices]\n",
    "            sess.run(training_op, feed_dict={X: X_batch, y: y_batch})\n",
    "        accuracy_val = accuracy.eval(feed_dict={X: X_batch, y: y_batch})\n",
    "        print(\"\\r{}\".format(epoch), \"Train accuracy:\", accuracy_val, end=\" \")\n",
    "        saver.save(sess, \"./my_model_supervised.ckpt\")\n",
    "        accuracy_val = accuracy.eval(feed_dict={X: mnist.test.images, y: mnist.test.labels})\n",
    "        print(\"Test accuracy:\", accuracy_val)"
   ]
  },
  {
   "cell_type": "code",
   "execution_count": 37,
   "metadata": {},
   "outputs": [
    {
     "name": "stdout",
     "output_type": "stream",
     "text": [
      "INFO:tensorflow:Restoring parameters from ./my_model_cache_frozen.ckpt\n",
      "0 Train accuracy: 0.9533333\tTest accuracy 0.9352\n",
      "1 Train accuracy: 0.99333334\tTest accuracy 0.9362\n",
      "2 Train accuracy: 0.9866667\tTest accuracy 0.9497\n",
      "3 Train accuracy: 0.97333336\tTest accuracy 0.94\n"
     ]
    }
   ],
   "source": [
    "# Now reusing the first two layers of the autoencoder we pretrained:\n",
    "\n",
    "n_epochs = 4\n",
    "batch_size = 150\n",
    "n_labeled_instances = 20000\n",
    "\n",
    "# training_op = optimizer.minimize(loss, var_list=[weights3, biases3]) # Freeze layers 1 and 2 (optional)\n",
    "\n",
    "with tf.Session() as sess:\n",
    "    init.run()\n",
    "    pretrain_saver.restore(sess, \"./my_model_cache_frozen.ckpt\")\n",
    "    for epoch in range(n_epochs):\n",
    "        n_batches = n_labeled_instances // batch_size\n",
    "        for iteration in range(n_batches):\n",
    "            print(\"\\r{}%\".format(100 * iteration // n_batches), end=\"\")\n",
    "            sys.stdout.flush()\n",
    "            indices = rnd.permutation(n_labeled_instances)[:batch_size]\n",
    "            X_batch, y_batch = mnist.train.images[indices], mnist.train.labels[indices]\n",
    "            sess.run(training_op, feed_dict={X: X_batch, y: y_batch})\n",
    "        accuracy_val = accuracy.eval(feed_dict={X: X_batch, y: y_batch})\n",
    "        print(\"\\r{}\".format(epoch), \"Train accuracy:\", accuracy_val, end=\"\\t\")\n",
    "        saver.save(sess, \"./my_model_supervised_pretrained.ckpt\")\n",
    "        accuracy_val = accuracy.eval(feed_dict={X: mnist.test.images, y: mnist.test.labels})\n",
    "        print(\"Test accuracy\", accuracy_val)"
   ]
  },
  {
   "cell_type": "markdown",
   "metadata": {},
   "source": [
    "# Stacked Denoising Autoencoders"
   ]
  },
  {
   "cell_type": "code",
   "execution_count": 38,
   "metadata": {},
   "outputs": [],
   "source": [
    "# Another way to force the autoencoder to learn useful features is to add noise to its inputs, training it to recover the original, noise-free inputs.\n",
    "\n",
    "reset_graph()\n",
    "\n",
    "n_inputs = 28 * 28\n",
    "n_hidden1 = 300\n",
    "n_hidden2 = 150 # codings\n",
    "n_hidden3 = n_hidden1\n",
    "n_outputs = n_inputs\n",
    "\n",
    "learning_rate = 0.01"
   ]
  },
  {
   "cell_type": "code",
   "execution_count": 39,
   "metadata": {},
   "outputs": [],
   "source": [
    "noise_level = 1.0\n",
    "\n",
    "X = tf.placeholder(tf.float32, shape=[None, n_inputs])\n",
    "X_noisy = X + noise_level * tf.random_normal(tf.shape(X))\n",
    "\n",
    "hidden1 = tf.layers.dense(X_noisy, n_hidden1, activation=tf.nn.relu, name=\"hidden1\")\n",
    "\n",
    "hidden2 = tf.layers.dense(hidden1, n_hidden2, activation=tf.nn.relu, name=\"hidden2\")\n",
    "\n",
    "hidden3 = tf.layers.dense(hidden2, n_hidden3, activation=tf.nn.relu, name=\"hidden3\")\n",
    "\n",
    "outputs = tf.layers.dense(hidden3, n_outputs, name=\"outputs\")\n",
    "\n",
    "reconstruction_loss = tf.reduce_mean(tf.square(outputs - X)) # MSE"
   ]
  },
  {
   "cell_type": "code",
   "execution_count": 40,
   "metadata": {},
   "outputs": [],
   "source": [
    "optimizer = tf.train.AdamOptimizer(learning_rate)\n",
    "training_op = optimizer.minimize(reconstruction_loss)\n",
    "\n",
    "init = tf.global_variables_initializer()\n",
    "saver = tf.train.Saver()"
   ]
  },
  {
   "cell_type": "code",
   "execution_count": 41,
   "metadata": {},
   "outputs": [
    {
     "name": "stdout",
     "output_type": "stream",
     "text": [
      "0 Train MSE: 0.04405324\n",
      "1 Train MSE: 0.043487985\n",
      "2 Train MSE: 0.04195292\n",
      "3 Train MSE: 0.041361865\n",
      "4 Train MSE: 0.03988882\n",
      "5 Train MSE: 0.03900992\n",
      "6 Train MSE: 0.039403744\n",
      "7 Train MSE: 0.042069178\n",
      "8 Train MSE: 0.03997882\n",
      "9 Train MSE: 0.040867157\n"
     ]
    }
   ],
   "source": [
    "n_epochs = 10\n",
    "batch_size = 150\n",
    "\n",
    "with tf.Session() as sess:\n",
    "    init.run()\n",
    "    for epoch in range(n_epochs):\n",
    "        n_batches = mnist.train.num_examples // batch_size\n",
    "        for iteration in range(n_batches):\n",
    "            print(\"\\r{}%\".format(100 * iteration // n_batches), end=\"\")\n",
    "            sys.stdout.flush()\n",
    "            X_batch, y_batch = mnist.train.next_batch(batch_size)\n",
    "            sess.run(training_op, feed_dict={X: X_batch})\n",
    "        loss_train = reconstruction_loss.eval(feed_dict={X: X_batch})\n",
    "        print(\"\\r{}\".format(epoch), \"Train MSE:\", loss_train)\n",
    "        saver.save(sess, \"./my_model_stacked_denoising_gaussian.ckpt\")"
   ]
  },
  {
   "cell_type": "code",
   "execution_count": 42,
   "metadata": {},
   "outputs": [],
   "source": [
    "# Using Dropout:\n",
    "\n",
    "reset_graph()\n",
    "\n",
    "n_inputs = 28 * 28\n",
    "n_hidden1 = 300\n",
    "n_hidden2 = 150 # codings\n",
    "n_hidden3 = n_hidden1\n",
    "n_outputs = n_inputs\n",
    "\n",
    "learning_rate = 0.01"
   ]
  },
  {
   "cell_type": "code",
   "execution_count": 43,
   "metadata": {},
   "outputs": [],
   "source": [
    "dropout_rate = 0.3\n",
    "\n",
    "training = tf.placeholder_with_default(False, shape=(), name='training')\n",
    "\n",
    "X = tf.placeholder(tf.float32, shape=[None, n_inputs])\n",
    "X_drop = tf.layers.dropout(X, dropout_rate, training=training)\n",
    "\n",
    "hidden1 = tf.layers.dense(X_drop, n_hidden1, activation=tf.nn.relu,\n",
    "                          name=\"hidden1\")\n",
    "hidden2 = tf.layers.dense(hidden1, n_hidden2, activation=tf.nn.relu, # not shown in the book\n",
    "                          name=\"hidden2\")                            # not shown\n",
    "hidden3 = tf.layers.dense(hidden2, n_hidden3, activation=tf.nn.relu, # not shown\n",
    "                          name=\"hidden3\")                            # not shown\n",
    "outputs = tf.layers.dense(hidden3, n_outputs, name=\"outputs\")        # not shown\n",
    "\n",
    "reconstruction_loss = tf.reduce_mean(tf.square(outputs - X)) # MSE"
   ]
  },
  {
   "cell_type": "code",
   "execution_count": 44,
   "metadata": {},
   "outputs": [],
   "source": [
    "optimizer = tf.train.AdamOptimizer(learning_rate)\n",
    "training_op = optimizer.minimize(reconstruction_loss)\n",
    "init = tf.global_variables_initializer()\n",
    "saver = tf.train.Saver()"
   ]
  },
  {
   "cell_type": "code",
   "execution_count": 45,
   "metadata": {},
   "outputs": [
    {
     "name": "stdout",
     "output_type": "stream",
     "text": [
      "0 Train MSE: 0.029647598\n",
      "1 Train MSE: 0.027554523\n",
      "2 Train MSE: 0.025073143\n",
      "3 Train MSE: 0.02543168\n",
      "4 Train MSE: 0.024907619\n",
      "5 Train MSE: 0.02505006\n",
      "6 Train MSE: 0.024483003\n",
      "7 Train MSE: 0.025150543\n",
      "8 Train MSE: 0.024383636\n",
      "9 Train MSE: 0.024234932\n"
     ]
    }
   ],
   "source": [
    "n_epochs = 10\n",
    "batch_size = 150\n",
    "\n",
    "with tf.Session() as sess:\n",
    "    init.run()\n",
    "    for epoch in range(n_epochs):\n",
    "        n_batches = mnist.train.num_examples // batch_size\n",
    "        for iteration in range(n_batches):\n",
    "            print(\"\\r{}%\".format(100 * iteration // n_batches), end=\"\")\n",
    "            sys.stdout.flush()\n",
    "            X_batch, y_batch = mnist.train.next_batch(batch_size)\n",
    "            sess.run(training_op, feed_dict={X: X_batch, training: True})\n",
    "        loss_train = reconstruction_loss.eval(feed_dict = {X: X_batch})\n",
    "        print(\"\\r{}\".format(epoch), \"Train MSE:\", loss_train)\n",
    "        saver.save(sess, \"./my_model_stacked_denoising_dropout.ckpt\")"
   ]
  },
  {
   "cell_type": "code",
   "execution_count": 46,
   "metadata": {},
   "outputs": [
    {
     "name": "stdout",
     "output_type": "stream",
     "text": [
      "INFO:tensorflow:Restoring parameters from ./my_model_stacked_denoising_dropout.ckpt\n"
     ]
    },
    {
     "data": {
      "image/png": "[encoded data removed]",
      "text/plain": [
       "<Figure size 576x432 with 4 Axes>"
      ]
     },
     "metadata": {
      "needs_background": "light"
     },
     "output_type": "display_data"
    }
   ],
   "source": [
    "show_reconstructed_digits(X, outputs, \"./my_model_stacked_denoising_dropout.ckpt\")"
   ]
  },
  {
   "cell_type": "markdown",
   "metadata": {},
   "source": [
    "# Sparse Autoencoder"
   ]
  },
  {
   "cell_type": "code",
   "execution_count": 47,
   "metadata": {},
   "outputs": [],
   "source": [
    "# A Sparse Autoencoder is another kind of restraint on the Machine Learning Algorithm that helps reduce the risk of overfitting.\n",
    "# By adding an appropriate term to the cost function, the autoencoder is pushed to reduce the number of active neurons in the coding layer.\n",
    "# This forces the autoencoder to represent each input as a combination of a small number of activations.\n",
    "# As a result, each neuron in the coding layer typically ends up representing a useful feature.\n",
    "# For example, if Activation of a neuron is measured at 0.3 but the target sparsity is 0.1, it must be penalized to activate less.\n",
    "    # To do this, we use the Kullback-Leibler divergence, which has much stronger gradients than the Mean Squared Error."
   ]
  },
  {
   "cell_type": "code",
   "execution_count": 48,
   "metadata": {},
   "outputs": [],
   "source": [
    "# Now let's implement the Sparse Encoder using TensorFlow:\n",
    "\n",
    "def kl_divergence(p, q):\n",
    "    # Kullback Leibler divergence\n",
    "    return p * tf.log(p / q) + (1 - p) * tf.log((1 - p) / (1 - q))\n",
    "\n",
    "learning_rate = 0.01\n",
    "sparsity_target = 0.1\n",
    "sparsity_weight = 0.2\n",
    "\n",
    "X = tf.placeholder(tf.float32, shape=[None, n_inputs])\n",
    "\n",
    "hidden1 = tf.layers.dense(X, n_hidden1, activation=tf.nn.sigmoid)\n",
    "outputs = tf.layers.dense(hidden1, n_outputs)\n",
    "\n",
    "hidden1_mean = tf.reduce_mean(hidden1, axis=0) # batch mean\n",
    "sparsity_loss = tf.reduce_sum(kl_divergence(sparsity_target, hidden1_mean))\n",
    "reconstruction_loss = tf.reduce_mean(tf.square(outputs - X)) # MSE\n",
    "loss = reconstruction_loss + sparsity_weight * sparsity_loss\n",
    "\n",
    "optimizer = tf.train.AdamOptimizer(learning_rate)\n",
    "training_op = optimizer.minimize(loss)"
   ]
  },
  {
   "cell_type": "code",
   "execution_count": 49,
   "metadata": {},
   "outputs": [],
   "source": [
    "init = tf.global_variables_initializer()\n",
    "saver = tf.train.Saver()"
   ]
  },
  {
   "cell_type": "code",
   "execution_count": 50,
   "metadata": {},
   "outputs": [
    {
     "name": "stdout",
     "output_type": "stream",
     "text": [
      "0 Train MSE: 0.06518411 \\Sparity loss: 0.23175108 \tTotal loss: 0.11153433\n",
      "1 Train MSE: 0.053680018 \\Sparity loss: 0.0017892909 \tTotal loss: 0.054037876\n",
      "2 Train MSE: 0.049760483 \\Sparity loss: 0.044603564 \tTotal loss: 0.058681197\n",
      "3 Train MSE: 0.043502253 \\Sparity loss: 0.026536718 \tTotal loss: 0.048809595\n",
      "4 Train MSE: 0.039597653 \\Sparity loss: 0.004931858 \tTotal loss: 0.040584024\n",
      "5 Train MSE: 0.0352226 \\Sparity loss: 0.029756926 \tTotal loss: 0.041173987\n",
      "6 Train MSE: 0.03121037 \\Sparity loss: 0.014786402 \tTotal loss: 0.03416765\n",
      "7 Train MSE: 0.028970387 \\Sparity loss: 0.07858612 \tTotal loss: 0.04468761\n",
      "8 Train MSE: 0.026001632 \\Sparity loss: 0.025249243 \tTotal loss: 0.031051481\n",
      "9 Train MSE: 0.023417281 \\Sparity loss: 0.01110298 \tTotal loss: 0.025637876\n",
      "10 Train MSE: 0.021957293 \\Sparity loss: 0.015022063 \tTotal loss: 0.024961706\n",
      "11 Train MSE: 0.021563184 \\Sparity loss: 0.047494322 \tTotal loss: 0.031062048\n",
      "12 Train MSE: 0.019964596 \\Sparity loss: 0.07797282 \tTotal loss: 0.035559162\n",
      "13 Train MSE: 0.018775433 \\Sparity loss: 0.017816883 \tTotal loss: 0.02233881\n",
      "14 Train MSE: 0.018381111 \\Sparity loss: 0.06659971 \tTotal loss: 0.031701054\n",
      "15 Train MSE: 0.017366985 \\Sparity loss: 0.013763286 \tTotal loss: 0.020119643\n",
      "16 Train MSE: 0.016402584 \\Sparity loss: 0.024565265 \tTotal loss: 0.021315636\n",
      "17 Train MSE: 0.016908828 \\Sparity loss: 0.053856477 \tTotal loss: 0.027680125\n",
      "18 Train MSE: 0.015584248 \\Sparity loss: 0.100791484 \tTotal loss: 0.035742544\n",
      "19 Train MSE: 0.015205707 \\Sparity loss: 0.013826034 \tTotal loss: 0.017970914\n",
      "20 Train MSE: 0.0153074525 \\Sparity loss: 0.016591873 \tTotal loss: 0.018625828\n",
      "21 Train MSE: 0.014554951 \\Sparity loss: 0.013612711 \tTotal loss: 0.017277494\n",
      "22 Train MSE: 0.01397769 \\Sparity loss: 0.019295681 \tTotal loss: 0.017836826\n",
      "23 Train MSE: 0.01327339 \\Sparity loss: 0.025975436 \tTotal loss: 0.018468477\n",
      "24 Train MSE: 0.013640631 \\Sparity loss: 0.026195653 \tTotal loss: 0.018879762\n",
      "25 Train MSE: 0.013461062 \\Sparity loss: 0.016538845 \tTotal loss: 0.016768832\n",
      "26 Train MSE: 0.013307359 \\Sparity loss: 0.07717262 \tTotal loss: 0.028741885\n",
      "27 Train MSE: 0.013038684 \\Sparity loss: 0.0237756 \tTotal loss: 0.017793804\n",
      "28 Train MSE: 0.013889081 \\Sparity loss: 0.030720789 \tTotal loss: 0.020033238\n",
      "29 Train MSE: 0.013092251 \\Sparity loss: 0.021684173 \tTotal loss: 0.017429085\n",
      "30 Train MSE: 0.01298224 \\Sparity loss: 0.019588675 \tTotal loss: 0.016899975\n",
      "31 Train MSE: 0.012729236 \\Sparity loss: 0.076458976 \tTotal loss: 0.02802103\n",
      "32 Train MSE: 0.012692426 \\Sparity loss: 0.043826513 \tTotal loss: 0.021457728\n",
      "33 Train MSE: 0.011887197 \\Sparity loss: 0.049060006 \tTotal loss: 0.021699198\n",
      "34 Train MSE: 0.011735072 \\Sparity loss: 0.039032307 \tTotal loss: 0.019541534\n",
      "35 Train MSE: 0.011707787 \\Sparity loss: 0.034267917 \tTotal loss: 0.01856137\n",
      "36 Train MSE: 0.012195507 \\Sparity loss: 0.032146335 \tTotal loss: 0.018624775\n",
      "37 Train MSE: 0.012543897 \\Sparity loss: 0.032923784 \tTotal loss: 0.019128654\n",
      "38 Train MSE: 0.011555041 \\Sparity loss: 0.023327667 \tTotal loss: 0.016220575\n",
      "39 Train MSE: 0.011177288 \\Sparity loss: 0.036548387 \tTotal loss: 0.018486965\n",
      "40 Train MSE: 0.011019604 \\Sparity loss: 0.04101442 \tTotal loss: 0.019222489\n",
      "41 Train MSE: 0.011498574 \\Sparity loss: 0.08462669 \tTotal loss: 0.028423913\n",
      "42 Train MSE: 0.011222556 \\Sparity loss: 0.024606723 \tTotal loss: 0.016143901\n",
      "43 Train MSE: 0.011370714 \\Sparity loss: 0.03243878 \tTotal loss: 0.01785847\n",
      "44 Train MSE: 0.011508566 \\Sparity loss: 0.0327052 \tTotal loss: 0.018049605\n",
      "45 Train MSE: 0.010994335 \\Sparity loss: 0.038465448 \tTotal loss: 0.018687423\n",
      "46 Train MSE: 0.010629191 \\Sparity loss: 0.03672301 \tTotal loss: 0.017973794\n",
      "47 Train MSE: 0.0106123425 \\Sparity loss: 0.034243785 \tTotal loss: 0.017461099\n",
      "48 Train MSE: 0.010914573 \\Sparity loss: 0.02438612 \tTotal loss: 0.015791798\n",
      "49 Train MSE: 0.011114576 \\Sparity loss: 0.0541636 \tTotal loss: 0.021947296\n",
      "50 Train MSE: 0.010823553 \\Sparity loss: 0.026277488 \tTotal loss: 0.016079051\n",
      "51 Train MSE: 0.010480049 \\Sparity loss: 0.0730222 \tTotal loss: 0.02508449\n",
      "52 Train MSE: 0.011371831 \\Sparity loss: 0.060071066 \tTotal loss: 0.023386044\n",
      "53 Train MSE: 0.01085387 \\Sparity loss: 0.059033006 \tTotal loss: 0.022660471\n",
      "54 Train MSE: 0.010148775 \\Sparity loss: 0.056062482 \tTotal loss: 0.021361273\n",
      "55 Train MSE: 0.010356859 \\Sparity loss: 0.04389018 \tTotal loss: 0.019134894\n",
      "56 Train MSE: 0.010440725 \\Sparity loss: 0.028812373 \tTotal loss: 0.016203199\n",
      "57 Train MSE: 0.010837778 \\Sparity loss: 0.061462954 \tTotal loss: 0.023130368\n",
      "58 Train MSE: 0.010119797 \\Sparity loss: 0.027192261 \tTotal loss: 0.015558248\n",
      "59 Train MSE: 0.0114008095 \\Sparity loss: 0.06616484 \tTotal loss: 0.024633776\n",
      "60 Train MSE: 0.010131197 \\Sparity loss: 0.02917353 \tTotal loss: 0.015965903\n",
      "61 Train MSE: 0.010498286 \\Sparity loss: 0.041719206 \tTotal loss: 0.018842127\n",
      "62 Train MSE: 0.011346043 \\Sparity loss: 0.06467502 \tTotal loss: 0.024281047\n",
      "63 Train MSE: 0.011352314 \\Sparity loss: 0.07100029 \tTotal loss: 0.025552373\n",
      "64 Train MSE: 0.011479732 \\Sparity loss: 0.13572115 \tTotal loss: 0.03862396\n",
      "65 Train MSE: 0.00993753 \\Sparity loss: 0.028497484 \tTotal loss: 0.015637027\n",
      "66 Train MSE: 0.010943337 \\Sparity loss: 0.05029332 \tTotal loss: 0.021002002\n",
      "67 Train MSE: 0.010148581 \\Sparity loss: 0.02996054 \tTotal loss: 0.016140688\n",
      "68 Train MSE: 0.010897311 \\Sparity loss: 0.053388864 \tTotal loss: 0.021575084\n",
      "69 Train MSE: 0.010953868 \\Sparity loss: 0.064680405 \tTotal loss: 0.023889948\n",
      "70 Train MSE: 0.010346757 \\Sparity loss: 0.047466103 \tTotal loss: 0.019839978\n",
      "71 Train MSE: 0.0115610575 \\Sparity loss: 0.12790012 \tTotal loss: 0.03714108\n",
      "72 Train MSE: 0.010121146 \\Sparity loss: 0.10871485 \tTotal loss: 0.031864114\n",
      "73 Train MSE: 0.009999883 \\Sparity loss: 0.038097724 \tTotal loss: 0.017619427\n",
      "74 Train MSE: 0.009953524 \\Sparity loss: 0.03449358 \tTotal loss: 0.016852241\n",
      "75 Train MSE: 0.00994913 \\Sparity loss: 0.063428625 \tTotal loss: 0.022634856\n",
      "76 Train MSE: 0.009731844 \\Sparity loss: 0.06472766 \tTotal loss: 0.022677377\n",
      "77 Train MSE: 0.010319411 \\Sparity loss: 0.04085759 \tTotal loss: 0.01849093\n",
      "78 Train MSE: 0.009663996 \\Sparity loss: 0.04579883 \tTotal loss: 0.018823761\n",
      "79 Train MSE: 0.009996403 \\Sparity loss: 0.0641848 \tTotal loss: 0.022833362\n",
      "80 Train MSE: 0.011578944 \\Sparity loss: 0.07934995 \tTotal loss: 0.027448934\n",
      "81 Train MSE: 0.0107025495 \\Sparity loss: 0.054818526 \tTotal loss: 0.021666255\n",
      "82 Train MSE: 0.010249525 \\Sparity loss: 0.047282875 \tTotal loss: 0.0197061\n",
      "83 Train MSE: 0.0101573635 \\Sparity loss: 0.058880042 \tTotal loss: 0.021933373\n",
      "84 Train MSE: 0.010983283 \\Sparity loss: 0.05177386 \tTotal loss: 0.021338055\n",
      "85 Train MSE: 0.010606358 \\Sparity loss: 0.059306324 \tTotal loss: 0.022467623\n",
      "86 Train MSE: 0.010510441 \\Sparity loss: 0.05330792 \tTotal loss: 0.021172024\n",
      "87 Train MSE: 0.009997048 \\Sparity loss: 0.0748464 \tTotal loss: 0.02496633\n",
      "88 Train MSE: 0.010032044 \\Sparity loss: 0.0816459 \tTotal loss: 0.026361223\n",
      "89 Train MSE: 0.00977138 \\Sparity loss: 0.05985001 \tTotal loss: 0.021741383\n",
      "90 Train MSE: 0.0107594505 \\Sparity loss: 0.07388422 \tTotal loss: 0.025536295\n",
      "91 Train MSE: 0.010585731 \\Sparity loss: 0.05645969 \tTotal loss: 0.021877669\n",
      "92 Train MSE: 0.010816775 \\Sparity loss: 0.056222975 \tTotal loss: 0.02206137\n",
      "93 Train MSE: 0.011525104 \\Sparity loss: 0.08902348 \tTotal loss: 0.0293298\n",
      "94 Train MSE: 0.010217912 \\Sparity loss: 0.1062636 \tTotal loss: 0.03147063\n",
      "95 Train MSE: 0.011284032 \\Sparity loss: 0.07996223 \tTotal loss: 0.027276479\n",
      "96 Train MSE: 0.010525993 \\Sparity loss: 0.049491305 \tTotal loss: 0.020424254\n",
      "97 Train MSE: 0.010108169 \\Sparity loss: 0.07647951 \tTotal loss: 0.025404071\n",
      "98 Train MSE: 0.010120787 \\Sparity loss: 0.06750009 \tTotal loss: 0.023620807\n",
      "99 Train MSE: 0.01054479 \\Sparity loss: 0.05389592 \tTotal loss: 0.021323975\n"
     ]
    }
   ],
   "source": [
    "n_epochs = 100\n",
    "batch_size = 1000\n",
    "\n",
    "with tf.Session() as sess:\n",
    "    init.run()\n",
    "    for epoch in range(n_epochs):\n",
    "        n_batches = mnist.train.num_examples // batch_size\n",
    "        for iteration in range(n_batches):\n",
    "            print(\"\\r{}%\".format(100 * iteration // n_batches), end=\"\")\n",
    "            sys.stdout.flush()\n",
    "            X_batch, y_batch = mnist.train.next_batch(batch_size)\n",
    "            sess.run(training_op, feed_dict={X: X_batch})\n",
    "        reconstruction_loss_val, sparsity_loss_val, loss_val = sess.run([reconstruction_loss, sparsity_loss, loss], feed_dict={X: X_batch})\n",
    "        print(\"\\r{}\".format(epoch), \"Train MSE:\", reconstruction_loss_val, \"\\Sparity loss:\", sparsity_loss_val, \"\\tTotal loss:\", loss_val)\n",
    "        saver.save(sess, \"./my_model_sparse.ckpt\")"
   ]
  },
  {
   "cell_type": "code",
   "execution_count": 51,
   "metadata": {},
   "outputs": [
    {
     "name": "stdout",
     "output_type": "stream",
     "text": [
      "INFO:tensorflow:Restoring parameters from ./my_model_sparse.ckpt\n"
     ]
    },
    {
     "data": {
      "image/png": "[encoded data removed]",
      "text/plain": [
       "<Figure size 576x432 with 4 Axes>"
      ]
     },
     "metadata": {
      "needs_background": "light"
     },
     "output_type": "display_data"
    }
   ],
   "source": [
    "show_reconstructed_digits(X, outputs, \"./my_model_sparse.ckpt\")"
   ]
  },
  {
   "cell_type": "code",
   "execution_count": 52,
   "metadata": {},
   "outputs": [],
   "source": [
    "# Note that the coding layer must output values from 0 to 1, which is why we use the sigmoid activation function:\n",
    "\n",
    "hidden1 = tf.layers.dense(X, n_hidden1, activation=tf.nn.sigmoid)"
   ]
  },
  {
   "cell_type": "code",
   "execution_count": 53,
   "metadata": {},
   "outputs": [],
   "source": [
    "# One simple trick to speed up convergence: instead of using the MSE, we can choose a reconstruction loss that will have larger gradients.\n",
    "# Cross Entropy is often a good choice.\n",
    "    # However we must normalize the inputs to make them take on values from 0 to 1.\n",
    "    # Also, we use the logistic activation function in the output layer so the outputs also take on values from 0 to 1.\n",
    "    \n",
    "# Here is the code for this:\n",
    "\n",
    "logits = tf.layers.dense(hidden1, n_outputs)\n",
    "outputs = tf.nn.sigmoid(logits)\n",
    "\n",
    "xentropy = tf.nn.sigmoid_cross_entropy_with_logits(labels=X, logits=logits)\n",
    "reconstruction_loss = tf.reduce_mean(xentropy)"
   ]
  },
  {
   "cell_type": "markdown",
   "metadata": {},
   "source": [
    "# Variational Autoencoder"
   ]
  },
  {
   "cell_type": "code",
   "execution_count": null,
   "metadata": {},
   "outputs": [],
   "source": [
    "# Variational autoencoders have 2 distinct differences from other autoencoders:\n",
    "# First they are probabilistic autoencoders, meaning that their outputs are partly determined by chance even after training.\n",
    "# Secondly, they are generative autoencoders, meaning that they can generate new instances that look like they were sampled from the training set.\n"
   ]
  },
  {
   "cell_type": "code",
   "execution_count": 54,
   "metadata": {},
   "outputs": [],
   "source": [
    "reset_graph()\n",
    "\n",
    "from functools import partial\n",
    "\n",
    "n_inputs = 28 * 28\n",
    "n_hidden1 = 500\n",
    "n_hidden2 = 500\n",
    "n_hidden3 = 20 # codings\n",
    "n_hidden4 = n_hidden2\n",
    "n_hidden5 = n_hidden1\n",
    "n_outputs = n_inputs\n",
    "learning_rate = 0.001\n",
    "\n",
    "initializer = tf.contrib.layers.variance_scaling_initializer()\n",
    "\n",
    "my_dense_layer = partial(\n",
    "    tf.layers.dense,\n",
    "    activation=tf.nn.elu,\n",
    "    kernel_initializer=initializer)\n",
    "\n",
    "X = tf.placeholder(tf.float32, [None, n_inputs])\n",
    "hidden1 = my_dense_layer(X, n_hidden1)\n",
    "hidden2 = my_dense_layer(hidden1, n_hidden2)\n",
    "hidden3_mean = my_dense_layer(hidden2, n_hidden3, activation=None)\n",
    "hidden3_sigma = my_dense_layer(hidden2, n_hidden3, activation=None)\n",
    "noise = tf.random_normal(tf.shape(hidden3_sigma), dtype=tf.float32)\n",
    "hidden3 = hidden3_mean + hidden3_sigma * noise\n",
    "hidden4 = my_dense_layer(hidden3, n_hidden4)\n",
    "hidden5 = my_dense_layer(hidden4, n_hidden5)\n",
    "logits = my_dense_layer(hidden5, n_outputs, activation=None)\n",
    "outputs = tf.sigmoid(logits)\n",
    "\n",
    "xentropy = tf.nn.sigmoid_cross_entropy_with_logits(labels=X, logits=logits)\n",
    "reconstruction_loss = tf.reduce_sum(xentropy)"
   ]
  },
  {
   "cell_type": "code",
   "execution_count": 55,
   "metadata": {},
   "outputs": [],
   "source": [
    "# This is the code for the latent loss. \n",
    "# Latent loss pushes the variational autoencoder to have codings that look as though they were sampled from a simple Gaussian Distribution,\n",
    "# for which we use the KL divergence between the target distribution and the actual distribution of the codings...\n",
    "\n",
    "eps = 1e-10 # smoothing term to avoid computing log(0) which is NaN\n",
    "latent_loss = 0.5 * tf.reduce_sum(\n",
    "    tf.square(hidden3_sigma) + tf.square(hidden3_mean) \n",
    "    - 1 - tf.log(eps + tf.square(hidden3_sigma)))"
   ]
  },
  {
   "cell_type": "code",
   "execution_count": 57,
   "metadata": {},
   "outputs": [],
   "source": [
    "loss = reconstruction_loss + latent_loss\n",
    "\n",
    "optimizer = tf.train.AdamOptimizer(learning_rate=learning_rate)\n",
    "training_op = optimizer.minimize(loss)\n",
    "\n",
    "init = tf.global_variables_initializer()\n",
    "saver = tf.train.Saver()"
   ]
  },
  {
   "cell_type": "code",
   "execution_count": 58,
   "metadata": {},
   "outputs": [
    {
     "name": "stdout",
     "output_type": "stream",
     "text": [
      "0 Train total loss: 31208.12 \tReconstruction loss: 25653.162 \tLatent loss: 5554.957\n",
      "1 Train total loss: 28719.902 \tReconstruction loss: 23336.797 \tLatent loss: 5383.1045\n",
      "2 Train total loss: 29089.23 \tReconstruction loss: 21552.518 \tLatent loss: 7536.713\n",
      "3 Train total loss: 28208.57 \tReconstruction loss: 22170.035 \tLatent loss: 6038.536\n",
      "4 Train total loss: 23617.941 \tReconstruction loss: 20198.645 \tLatent loss: 3419.2966\n",
      "5 Train total loss: 25956.473 \tReconstruction loss: 19426.38 \tLatent loss: 6530.091\n",
      "6 Train total loss: 19874.336 \tReconstruction loss: 16766.828 \tLatent loss: 3107.5076\n",
      "7 Train total loss: 18754.873 \tReconstruction loss: 15735.596 \tLatent loss: 3019.2778\n",
      "8 Train total loss: 16921.139 \tReconstruction loss: 13865.1455 \tLatent loss: 3055.9927\n",
      "9 Train total loss: 16646.902 \tReconstruction loss: 13460.869 \tLatent loss: 3186.0322\n",
      "10 Train total loss: 16272.998 \tReconstruction loss: 13140.922 \tLatent loss: 3132.0764\n",
      "11 Train total loss: 17027.512 \tReconstruction loss: 13599.379 \tLatent loss: 3428.1323\n",
      "12 Train total loss: 16118.932 \tReconstruction loss: 12777.336 \tLatent loss: 3341.5955\n",
      "13 Train total loss: 15455.067 \tReconstruction loss: 12148.451 \tLatent loss: 3306.6162\n",
      "14 Train total loss: 20283.908 \tReconstruction loss: 15299.5 \tLatent loss: 4984.408\n",
      "15 Train total loss: 16235.754 \tReconstruction loss: 13009.534 \tLatent loss: 3226.2197\n",
      "16 Train total loss: 16135.992 \tReconstruction loss: 12784.736 \tLatent loss: 3351.2563\n",
      "17 Train total loss: 15371.025 \tReconstruction loss: 12065.252 \tLatent loss: 3305.774\n",
      "18 Train total loss: 16452.422 \tReconstruction loss: 13229.005 \tLatent loss: 3223.4175\n",
      "19 Train total loss: 23030.918 \tReconstruction loss: 16460.21 \tLatent loss: 6570.7065\n",
      "20 Train total loss: 18505.664 \tReconstruction loss: 14924.849 \tLatent loss: 3580.815\n",
      "21 Train total loss: 15961.163 \tReconstruction loss: 12521.308 \tLatent loss: 3439.8555\n",
      "22 Train total loss: 16038.157 \tReconstruction loss: 12607.656 \tLatent loss: 3430.501\n",
      "23 Train total loss: 16026.233 \tReconstruction loss: 12256.637 \tLatent loss: 3769.597\n",
      "24 Train total loss: 15692.663 \tReconstruction loss: 12066.16 \tLatent loss: 3626.503\n",
      "25 Train total loss: 16204.184 \tReconstruction loss: 12525.432 \tLatent loss: 3678.752\n",
      "26 Train total loss: 15619.804 \tReconstruction loss: 12003.843 \tLatent loss: 3615.961\n",
      "27 Train total loss: 15273.193 \tReconstruction loss: 11972.36 \tLatent loss: 3300.8333\n",
      "28 Train total loss: 15897.773 \tReconstruction loss: 12490.799 \tLatent loss: 3406.975\n",
      "29 Train total loss: 15642.569 \tReconstruction loss: 12180.584 \tLatent loss: 3461.9854\n",
      "30 Train total loss: 34607.0 \tReconstruction loss: 27313.121 \tLatent loss: 7293.877\n",
      "31 Train total loss: 27739.441 \tReconstruction loss: 22561.234 \tLatent loss: 5178.208\n",
      "32 Train total loss: 24892.785 \tReconstruction loss: 20243.227 \tLatent loss: 4649.5576\n",
      "33 Train total loss: 19270.006 \tReconstruction loss: 16600.053 \tLatent loss: 2669.9536\n",
      "34 Train total loss: 18931.195 \tReconstruction loss: 16036.792 \tLatent loss: 2894.4033\n",
      "35 Train total loss: 16314.572 \tReconstruction loss: 13104.034 \tLatent loss: 3210.5376\n",
      "36 Train total loss: 16665.514 \tReconstruction loss: 13410.728 \tLatent loss: 3254.7866\n",
      "37 Train total loss: 15914.43 \tReconstruction loss: 12623.427 \tLatent loss: 3291.0034\n",
      "38 Train total loss: 15652.256 \tReconstruction loss: 12299.232 \tLatent loss: 3353.0234\n",
      "39 Train total loss: 15349.021 \tReconstruction loss: 12009.199 \tLatent loss: 3339.8223\n",
      "40 Train total loss: 15189.265 \tReconstruction loss: 11862.508 \tLatent loss: 3326.7568\n",
      "41 Train total loss: 15191.445 \tReconstruction loss: 11809.564 \tLatent loss: 3381.8813\n",
      "42 Train total loss: 16033.302 \tReconstruction loss: 12602.201 \tLatent loss: 3431.1008\n",
      "43 Train total loss: 16182.217 \tReconstruction loss: 12618.195 \tLatent loss: 3564.021\n",
      "44 Train total loss: 23917.42 \tReconstruction loss: 18044.4 \tLatent loss: 5873.0195\n",
      "45 Train total loss: 19353.756 \tReconstruction loss: 15697.126 \tLatent loss: 3656.6296\n",
      "46 Train total loss: 16936.914 \tReconstruction loss: 13637.418 \tLatent loss: 3299.4956\n",
      "47 Train total loss: 17308.184 \tReconstruction loss: 14105.557 \tLatent loss: 3202.6277\n",
      "48 Train total loss: 16293.789 \tReconstruction loss: 12912.428 \tLatent loss: 3381.3613\n",
      "49 Train total loss: 15450.164 \tReconstruction loss: 12035.074 \tLatent loss: 3415.0896\n"
     ]
    }
   ],
   "source": [
    "n_epochs = 50\n",
    "batch_size = 150\n",
    "\n",
    "with tf.Session() as sess:\n",
    "    init.run()\n",
    "    for epoch in range(n_epochs):\n",
    "        n_batches = mnist.train.num_examples // batch_size\n",
    "        for iteration in range(n_batches):\n",
    "            print(\"\\r{}%\".format(100 * iteration // n_batches), end=\"\")\n",
    "            sys.stdout.flush()\n",
    "            X_batch, y_batch = mnist.train.next_batch(batch_size)\n",
    "            sess.run(training_op, feed_dict={X: X_batch})\n",
    "        loss_val, reconstruction_loss_val, latent_loss_val = sess.run([loss, reconstruction_loss, latent_loss], feed_dict={X: X_batch})\n",
    "        print(\"\\r{}\".format(epoch), \"Train total loss:\", loss_val, \"\\tReconstruction loss:\", reconstruction_loss_val, \"\\tLatent loss:\", latent_loss_val)\n",
    "        saver.save(sess, \"./my_model_variational.ckpt\")"
   ]
  },
  {
   "cell_type": "code",
   "execution_count": 59,
   "metadata": {},
   "outputs": [],
   "source": [
    "# The following code builds the variational autoencoder using log(sigma^2) variant:\n",
    "\n",
    "reset_graph()\n",
    "\n",
    "from functools import partial\n",
    "\n",
    "n_inputs = 28 * 28\n",
    "n_hidden1 = 500\n",
    "n_hidden2 = 500\n",
    "n_hidden3 = 20 # codings\n",
    "n_hidden4 = n_hidden2\n",
    "n_hidden5 = n_hidden1\n",
    "n_outputs = n_inputs\n",
    "learning_rate = 0.001\n",
    "\n",
    "initializer = tf.contrib.layers.variance_scaling_initializer()\n",
    "my_dense_layer = partial(\n",
    "    tf.layers.dense,\n",
    "    activation=tf.nn.elu,\n",
    "    kernel_initializer=initializer)\n",
    "\n",
    "X = tf.placeholder(tf.float32, [None, n_inputs])\n",
    "hidden1 = my_dense_layer(X, n_hidden1)\n",
    "hidden2 = my_dense_layer(hidden1, n_hidden2)\n",
    "hidden3_mean = my_dense_layer(hidden2, n_hidden3, activation=None)\n",
    "hidden3_gamma = my_dense_layer(hidden2, n_hidden3, activation=None)\n",
    "noise = tf.random_normal(tf.shape(hidden3_gamma), dtype=tf.float32)\n",
    "hidden3 = hidden3_mean + tf.exp(0.5 * hidden3_gamma) * noise\n",
    "hidden4 = my_dense_layer(hidden3, n_hidden4)\n",
    "hidden5 = my_dense_layer(hidden4, n_hidden5)\n",
    "logits = my_dense_layer(hidden5, n_outputs, activation=None)\n",
    "outputs = tf.sigmoid(logits)\n",
    "\n",
    "xentropy = tf.nn.sigmoid_cross_entropy_with_logits(labels=X, logits=logits)\n",
    "reconstruction_loss = tf.reduce_sum(xentropy)\n",
    "latent_loss = 0.5 * tf.reduce_sum(\n",
    "    tf.exp(hidden3_gamma) + tf.square(hidden3_mean) - 1 - hidden3_gamma)\n",
    "loss = reconstruction_loss + latent_loss\n",
    "\n",
    "optimizer = tf.train.AdamOptimizer(learning_rate=learning_rate)\n",
    "training_op = optimizer.minimize(loss)\n",
    "\n",
    "init = tf.global_variables_initializer()\n",
    "saver=tf.train.Saver()"
   ]
  },
  {
   "cell_type": "markdown",
   "metadata": {},
   "source": [
    "# Generate Digits"
   ]
  },
  {
   "cell_type": "code",
   "execution_count": 60,
   "metadata": {},
   "outputs": [
    {
     "name": "stdout",
     "output_type": "stream",
     "text": [
      "0 Train total loss: 18234.959 \tReconstruction loss: 14613.555 \tLatent loss: 3621.4038\n",
      "1 Train total loss: 16910.785 \tReconstruction loss: 13154.402 \tLatent loss: 3756.3826\n",
      "2 Train total loss: 16619.904 \tReconstruction loss: 12762.092 \tLatent loss: 3857.813\n",
      "3 Train total loss: 16368.825 \tReconstruction loss: 12574.408 \tLatent loss: 3794.417\n",
      "4 Train total loss: 15873.08 \tReconstruction loss: 12050.129 \tLatent loss: 3822.951\n",
      "5 Train total loss: 16155.2295 \tReconstruction loss: 12337.519 \tLatent loss: 3817.7107\n",
      "6 Train total loss: 16276.033 \tReconstruction loss: 12419.353 \tLatent loss: 3856.6812\n",
      "7 Train total loss: 15712.37 \tReconstruction loss: 12033.814 \tLatent loss: 3678.556\n",
      "8 Train total loss: 15170.275 \tReconstruction loss: 11349.5 \tLatent loss: 3820.775\n",
      "9 Train total loss: 15865.42 \tReconstruction loss: 12077.842 \tLatent loss: 3787.5781\n",
      "10 Train total loss: 15799.446 \tReconstruction loss: 11909.492 \tLatent loss: 3889.9543\n",
      "11 Train total loss: 15461.79 \tReconstruction loss: 11676.518 \tLatent loss: 3785.2725\n",
      "12 Train total loss: 15122.294 \tReconstruction loss: 11395.812 \tLatent loss: 3726.4824\n",
      "13 Train total loss: 15137.801 \tReconstruction loss: 11383.528 \tLatent loss: 3754.272\n",
      "14 Train total loss: 15133.925 \tReconstruction loss: 11396.721 \tLatent loss: 3737.204\n",
      "15 Train total loss: 15476.726 \tReconstruction loss: 11640.086 \tLatent loss: 3836.6396\n",
      "16 Train total loss: 14881.041 \tReconstruction loss: 11140.578 \tLatent loss: 3740.4624\n",
      "17 Train total loss: 14856.891 \tReconstruction loss: 11138.46 \tLatent loss: 3718.431\n",
      "18 Train total loss: 14883.449 \tReconstruction loss: 11159.169 \tLatent loss: 3724.2805\n",
      "19 Train total loss: 15416.57 \tReconstruction loss: 11716.563 \tLatent loss: 3700.0066\n",
      "20 Train total loss: 15600.301 \tReconstruction loss: 11809.25 \tLatent loss: 3791.0505\n",
      "21 Train total loss: 15291.516 \tReconstruction loss: 11472.543 \tLatent loss: 3818.9724\n",
      "22 Train total loss: 14813.129 \tReconstruction loss: 11038.079 \tLatent loss: 3775.0498\n",
      "23 Train total loss: 14958.0625 \tReconstruction loss: 11252.835 \tLatent loss: 3705.227\n",
      "24 Train total loss: 14905.223 \tReconstruction loss: 11177.418 \tLatent loss: 3727.8052\n",
      "25 Train total loss: 15314.399 \tReconstruction loss: 11537.68 \tLatent loss: 3776.7195\n",
      "26 Train total loss: 14989.735 \tReconstruction loss: 11161.698 \tLatent loss: 3828.037\n",
      "27 Train total loss: 15305.933 \tReconstruction loss: 11555.126 \tLatent loss: 3750.8066\n",
      "28 Train total loss: 14722.742 \tReconstruction loss: 11089.679 \tLatent loss: 3633.0635\n",
      "29 Train total loss: 15311.883 \tReconstruction loss: 11646.069 \tLatent loss: 3665.813\n",
      "30 Train total loss: 14797.059 \tReconstruction loss: 11205.754 \tLatent loss: 3591.3047\n",
      "31 Train total loss: 15385.404 \tReconstruction loss: 11579.203 \tLatent loss: 3806.2017\n",
      "32 Train total loss: 14341.167 \tReconstruction loss: 10763.592 \tLatent loss: 3577.5754\n",
      "33 Train total loss: 15380.329 \tReconstruction loss: 11595.434 \tLatent loss: 3784.8953\n",
      "34 Train total loss: 14843.837 \tReconstruction loss: 11208.545 \tLatent loss: 3635.292\n",
      "35 Train total loss: 14968.359 \tReconstruction loss: 11319.8125 \tLatent loss: 3648.5464\n",
      "36 Train total loss: 15032.572 \tReconstruction loss: 11334.97 \tLatent loss: 3697.602\n",
      "37 Train total loss: 14956.5625 \tReconstruction loss: 11286.243 \tLatent loss: 3670.3193\n",
      "38 Train total loss: 14821.75 \tReconstruction loss: 11019.715 \tLatent loss: 3802.0356\n",
      "39 Train total loss: 14659.777 \tReconstruction loss: 11038.085 \tLatent loss: 3621.692\n",
      "40 Train total loss: 15499.384 \tReconstruction loss: 11723.79 \tLatent loss: 3775.5935\n",
      "41 Train total loss: 14702.305 \tReconstruction loss: 10999.365 \tLatent loss: 3702.94\n",
      "42 Train total loss: 14975.745 \tReconstruction loss: 11234.139 \tLatent loss: 3741.6067\n",
      "43 Train total loss: 15353.68 \tReconstruction loss: 11609.02 \tLatent loss: 3744.6602\n",
      "44 Train total loss: 14785.988 \tReconstruction loss: 11036.544 \tLatent loss: 3749.4443\n",
      "45 Train total loss: 14705.896 \tReconstruction loss: 11034.744 \tLatent loss: 3671.1528\n",
      "46 Train total loss: 14589.515 \tReconstruction loss: 11006.022 \tLatent loss: 3583.4922\n",
      "47 Train total loss: 14553.939 \tReconstruction loss: 10950.238 \tLatent loss: 3603.7017\n",
      "48 Train total loss: 14402.542 \tReconstruction loss: 10743.239 \tLatent loss: 3659.3027\n",
      "49 Train total loss: 14535.642 \tReconstruction loss: 10829.844 \tLatent loss: 3705.798\n"
     ]
    }
   ],
   "source": [
    "# Now we will use the above variational autoencoder to generate images that look like handwritten digits.\n",
    "# All we need to do is train the model, then sample random codings from a Gaussian distribution and then decode them:\n",
    "\n",
    "import numpy as np\n",
    "\n",
    "n_digits = 60\n",
    "n_epochs = 50\n",
    "batch_size=150\n",
    "\n",
    "with tf.Session() as sess:\n",
    "    init.run()\n",
    "    for epoch in range(n_epochs):\n",
    "        n_batches = mnist.train.num_examples // batch_size\n",
    "        for iteration in range(n_batches):\n",
    "            print(\"\\r{}%\".format(100 * iteration // n_batches), end=\"\")\n",
    "            sys.stdout.flush()\n",
    "            X_batch, y_batch = mnist.train.next_batch(batch_size)\n",
    "            sess.run(training_op, feed_dict={X: X_batch})\n",
    "        loss_val, reconstruction_loss_val, latent_loss_val = sess.run([loss, reconstruction_loss, latent_loss], feed_dict={X: X_batch})\n",
    "        print(\"\\r{}\".format(epoch), \"Train total loss:\", loss_val, \"\\tReconstruction loss:\", reconstruction_loss_val, \"\\tLatent loss:\", latent_loss_val)\n",
    "        saver.save(sess, \"./my_model_variational.ckpt\")\n",
    "        \n",
    "    codings_rnd = np.random.normal(size=[n_digits, n_hidden3])\n",
    "    outputs_val = outputs.eval(feed_dict={hidden3: codings_rnd})"
   ]
  },
  {
   "cell_type": "code",
   "execution_count": 61,
   "metadata": {},
   "outputs": [
    {
     "data": {
      "image/png": "[encoded data removed]",
      "text/plain": [
       "<Figure size 576x3600 with 60 Axes>"
      ]
     },
     "metadata": {
      "needs_background": "light"
     },
     "output_type": "display_data"
    }
   ],
   "source": [
    "# That's it. Now we can see what the \"handwritten\" digits produced by the autoencoder look like:\n",
    "\n",
    "plt.figure(figsize=(8, 50))\n",
    "for iteration in range(n_digits):\n",
    "    plt.subplot(n_digits, 10, iteration + 1)\n",
    "    plot_image(outputs_val[iteration])"
   ]
  },
  {
   "cell_type": "code",
   "execution_count": 62,
   "metadata": {},
   "outputs": [
    {
     "data": {
      "image/png": "[encoded data removed]",
      "text/plain": [
       "<Figure size 432x288 with 1 Axes>"
      ]
     },
     "metadata": {
      "needs_background": "light"
     },
     "output_type": "display_data"
    }
   ],
   "source": [
    "# Save the generated digits:\n",
    "\n",
    "n_rows = 6\n",
    "n_cols = 10\n",
    "plot_multiple_images(outputs_val.reshape(-1, 28, 28), n_rows, n_cols)\n",
    "plt.savefig(\"generated_digits_plot\")\n",
    "plt.show()"
   ]
  },
  {
   "cell_type": "code",
   "execution_count": 63,
   "metadata": {},
   "outputs": [],
   "source": [
    "# Note that the latent loss is computed differently in this second variant:\n",
    "\n",
    "latent_loss = 0.5 * tf.reduce_sum(tf.exp(hidden3_gamma) + tf.square(hidden3_mean) - 1 - hidden3_gamma)"
   ]
  },
  {
   "cell_type": "markdown",
   "metadata": {},
   "source": [
    "# Encode & Decode"
   ]
  },
  {
   "cell_type": "code",
   "execution_count": 64,
   "metadata": {},
   "outputs": [
    {
     "name": "stdout",
     "output_type": "stream",
     "text": [
      "INFO:tensorflow:Restoring parameters from ./my_model_variational.ckpt\n"
     ]
    }
   ],
   "source": [
    "# Encode:\n",
    "\n",
    "n_digits = 3\n",
    "X_test, y_test = mnist.test.next_batch(batch_size)\n",
    "codings = hidden3\n",
    "\n",
    "with tf.Session() as sess:\n",
    "    saver.restore(sess, \"./my_model_variational.ckpt\")\n",
    "    codings_val = codings.eval(feed_dict={X: X_test})"
   ]
  },
  {
   "cell_type": "code",
   "execution_count": 65,
   "metadata": {},
   "outputs": [
    {
     "name": "stdout",
     "output_type": "stream",
     "text": [
      "INFO:tensorflow:Restoring parameters from ./my_model_variational.ckpt\n"
     ]
    }
   ],
   "source": [
    "# Decode:\n",
    "\n",
    "with tf.Session() as sess:\n",
    "    saver.restore(sess, \"./my_model_variational.ckpt\")\n",
    "    outputs_val = outputs.eval(feed_dict={codings: codings_val})"
   ]
  },
  {
   "cell_type": "code",
   "execution_count": 66,
   "metadata": {},
   "outputs": [
    {
     "data": {
      "image/png": "[encoded data removed]",
      "text/plain": [
       "<Figure size 576x540 with 6 Axes>"
      ]
     },
     "metadata": {
      "needs_background": "light"
     },
     "output_type": "display_data"
    }
   ],
   "source": [
    "# Let's plot the reconstructions:\n",
    "\n",
    "fig = plt.figure(figsize=(8, 2.5 * n_digits))\n",
    "for iteration in range(n_digits):\n",
    "    plt.subplot(n_digits, 2, 1 + 2 * iteration)\n",
    "    plot_image(X_test[iteration])\n",
    "    plt.subplot(n_digits, 2, 2 + 2 * iteration)\n",
    "    plot_image(outputs_val[iteration])"
   ]
  },
  {
   "cell_type": "markdown",
   "metadata": {},
   "source": [
    "# Interpolate digits"
   ]
  },
  {
   "cell_type": "code",
   "execution_count": 67,
   "metadata": {},
   "outputs": [
    {
     "name": "stdout",
     "output_type": "stream",
     "text": [
      "INFO:tensorflow:Restoring parameters from ./my_model_variational.ckpt\n"
     ]
    },
    {
     "data": {
      "image/png": "[encoded data removed]",
      "text/plain": [
       "<Figure size 792x324 with 6 Axes>"
      ]
     },
     "metadata": {
      "needs_background": "light"
     },
     "output_type": "display_data"
    },
    {
     "data": {
      "image/png": "[encoded data removed]",
      "text/plain": [
       "<Figure size 792x324 with 6 Axes>"
      ]
     },
     "metadata": {
      "needs_background": "light"
     },
     "output_type": "display_data"
    },
    {
     "data": {
      "image/png": "[encoded data removed]",
      "text/plain": [
       "<Figure size 792x324 with 6 Axes>"
      ]
     },
     "metadata": {
      "needs_background": "light"
     },
     "output_type": "display_data"
    },
    {
     "data": {
      "image/png": "[encoded data removed]",
      "text/plain": [
       "<Figure size 792x324 with 6 Axes>"
      ]
     },
     "metadata": {
      "needs_background": "light"
     },
     "output_type": "display_data"
    }
   ],
   "source": [
    "n_iterations = 3\n",
    "n_digits = 6\n",
    "codings_rnd = np.random.normal(size=[n_digits, n_hidden3])\n",
    "\n",
    "with tf.Session() as sess:\n",
    "    saver.restore(sess, \"./my_model_variational.ckpt\")\n",
    "    target_codings = np.roll(codings_rnd, -1, axis=0)\n",
    "    for iteration in range(n_iterations + 1):\n",
    "        codings_interpolate = codings_rnd + (target_codings - codings_rnd) * iteration / n_iterations\n",
    "        outputs_val = outputs.eval(feed_dict={codings: codings_interpolate})\n",
    "        plt.figure(figsize=(11, 1.5*n_iterations))\n",
    "        for digit_index in range(n_digits):\n",
    "            plt.subplot(1, n_digits, digit_index + 1)\n",
    "            plot_image(outputs_val[digit_index])\n",
    "        plt.show()"
   ]
  },
  {
   "cell_type": "code",
   "execution_count": null,
   "metadata": {},
   "outputs": [],
   "source": []
  }
 ],
 "metadata": {
  "kernelspec": {
   "display_name": "Python 3",
   "language": "python",
   "name": "python3"
  },
  "language_info": {
   "codemirror_mode": {
    "name": "ipython",
    "version": 3
   },
   "file_extension": ".py",
   "mimetype": "text/x-python",
   "name": "python",
   "nbconvert_exporter": "python",
   "pygments_lexer": "ipython3",
   "version": "3.6.8"
  }
 },
 "nbformat": 4,
 "nbformat_minor": 2
}
